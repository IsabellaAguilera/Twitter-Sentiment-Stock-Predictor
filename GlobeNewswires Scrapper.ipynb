{
 "cells": [
  {
   "cell_type": "markdown",
   "metadata": {},
   "source": [
    "## Globenewswire Wire Scrape"
   ]
  },
  {
   "cell_type": "code",
   "execution_count": 1,
   "metadata": {},
   "outputs": [],
   "source": [
    "#Importing all the libraries required for scraping\n",
    "\n",
    "from splinter import Browser\n",
    "from bs4 import BeautifulSoup \n",
    "import requests\n",
    "import time\n",
    "import pandas as pd\n",
    "import pprint\n",
    "import webbrowser\n",
    "import urllib\n",
    "import re\n",
    "import pymongo\n"
   ]
  },
  {
   "cell_type": "code",
   "execution_count": 2,
   "metadata": {},
   "outputs": [],
   "source": [
    "# using the crome driver for scraping\n",
    "\n",
    "executable_path = {'executable_path': 'chromedriver.exe'}\n",
    "browser = Browser('chrome', **executable_path, headless=False)\n",
    "#browser = Browser()"
   ]
  },
  {
   "cell_type": "code",
   "execution_count": 3,
   "metadata": {
    "scrolled": true
   },
   "outputs": [
    {
     "name": "stdout",
     "output_type": "stream",
     "text": [
      "10\n",
      "10\n"
     ]
    }
   ],
   "source": [
    "# Url for main page\n",
    "list1 = [2, 3] \n",
    "for x in (list1):\n",
    "    \n",
    "    url = 'https://www.globenewswire.com/Index?page='+ str(x) +'#pagerPos'\n",
    "    browser.visit(url)\n",
    "\n",
    "    # parser\n",
    "    html = browser.html\n",
    "    soup = BeautifulSoup(html, 'html.parser')\n",
    "    time.sleep(5)\n",
    "\n",
    "# storing all the data from the main class\n",
    "    Data = soup.find_all('div',class_='rl-container')\n",
    "\n",
    "    print(len(Data))\n",
    "\n",
    "    news_url = []\n",
    "    news = []\n",
    "    headline = []\n",
    "# search variables Name and reviews within main class using for loop\n",
    "\n",
    "    for tr in Data:\n",
    "      if tr.find('a'):\n",
    "        headline.append(tr.find('p').text)\n",
    "        news_url.append(tr.find('a')['href'])\n",
    "        news.append(tr.find('a').text)\n",
    "    df = pd.DataFrame({\"Headline\": headline, \"News\":news,\"news_url\":news_url})\n",
    "    \n",
    "\n",
    "df.head()\n",
    "df.to_csv('OutputNews.csv')"
   ]
  },
  {
   "cell_type": "code",
   "execution_count": null,
   "metadata": {},
   "outputs": [],
   "source": [
    "\n"
   ]
  },
  {
   "cell_type": "markdown",
   "metadata": {},
   "source": [
    "## List only Nasdaq and NYSE listed companies"
   ]
  },
  {
   "cell_type": "code",
   "execution_count": 4,
   "metadata": {},
   "outputs": [
    {
     "name": "stdout",
     "output_type": "stream",
     "text": [
      "                                  Headline  \\\n",
      "0                    Helix BioPharma Corp.   \n",
      "1                        College of DuPage   \n",
      "2                  Zhang Investor Law P.C.   \n",
      "3  Altisource Asset Management Corporation   \n",
      "4                Parkland Fuel Corporation   \n",
      "5            American Pacific Mining Corp.   \n",
      "6      Educational Development Corporation   \n",
      "7                            INNATE PHARMA   \n",
      "8                            INNATE PHARMA   \n",
      "9                           Precipio, Inc.   \n",
      "\n",
      "                                                News  \\\n",
      "0  Helix BioPharma Corp. Closes $3.0 Million Priv...   \n",
      "1  Local Boy Scouts Earn Two Unique Merit Badges ...   \n",
      "2  MMSI DEADLINE: Zhang Investor Law Reminds Inve...   \n",
      "3  Altisource Asset Management Corporation Announ...   \n",
      "4  Parkland Fuel Corporation Announces January 20...   \n",
      "5  American Pacific Mining Announces Webinar at 2...   \n",
      "6  Educational Development Corporation  Announces...   \n",
      "7  French regulatory agency agrees lacutamab TELL...   \n",
      "8  French Regulatory Agency Agrees lacutamab TELL...   \n",
      "9  Precipio announces shareholder update call to ...   \n",
      "\n",
      "                                            news_url  \n",
      "0  /news-release/2020/01/13/1969935/0/en/Helix-Bi...  \n",
      "1  /news-release/2020/01/13/1969934/0/en/Local-Bo...  \n",
      "2  /news-release/2020/01/13/1969933/0/en/MMSI-DEA...  \n",
      "3  /news-release/2020/01/13/1969932/0/en/Altisour...  \n",
      "4  /news-release/2020/01/13/1969931/0/en/Parkland...  \n",
      "5  /news-release/2020/01/13/1969930/0/en/American...  \n",
      "6  /news-release/2020/01/13/1969929/0/en/Educatio...  \n",
      "7  /news-release/2020/01/13/1969928/0/en/French-r...  \n",
      "8  /news-release/2020/01/13/1969927/0/en/French-R...  \n",
      "9  /news-release/2020/01/13/1969926/0/en/Precipio...  \n"
     ]
    }
   ],
   "source": [
    "#NYSE_df = df[df.News.str.contains('NYSE',case=False)] \n",
    "#Nasdaq_df = df[df.News.str.contains('Nasdaq',case=False)] \n",
    "#PC_News = NYSE_df.append(Nasdaq_df, ignore_index=True)\n",
    "PC_News = df\n",
    "print(PC_News)"
   ]
  },
  {
   "cell_type": "code",
   "execution_count": null,
   "metadata": {
    "scrolled": true
   },
   "outputs": [],
   "source": []
  },
  {
   "cell_type": "code",
   "execution_count": null,
   "metadata": {},
   "outputs": [],
   "source": []
  },
  {
   "cell_type": "markdown",
   "metadata": {},
   "source": []
  },
  {
   "cell_type": "code",
   "execution_count": 5,
   "metadata": {},
   "outputs": [
    {
     "name": "stdout",
     "output_type": "stream",
     "text": [
      "Helix BioPharma Corp. Closes $3.0 Million Private Placement\n",
      " Sentiment Score: {'neg': 0.0, 'neu': 1.0, 'pos': 0.0, 'compound': 0.0}\n",
      "Local Boy Scouts Earn Two Unique Merit Badges in Metalwork and Welding at COD Technical Education Center\n",
      " Sentiment Score: {'neg': 0.0, 'neu': 0.851, 'pos': 0.149, 'compound': 0.4215}\n",
      "MMSI DEADLINE: Zhang Investor Law Reminds Investors of Deadline in Securities Class Action Lawsuit Against Merit Medical Systems, Inc. – MMSI \n",
      " Sentiment Score: {'neg': 0.079, 'neu': 0.711, 'pos': 0.209, 'compound': 0.4767}\n",
      "Altisource Asset Management Corporation Announces Hiring of Co-Chief Executive Officer\n",
      " Sentiment Score: {'neg': 0.0, 'neu': 0.783, 'pos': 0.217, 'compound': 0.3612}\n",
      "Parkland Fuel Corporation Announces January 2020 Dividend\n",
      " Sentiment Score: {'neg': 0.0, 'neu': 1.0, 'pos': 0.0, 'compound': 0.0}\n",
      "American Pacific Mining Announces Webinar at 2:30PM PST today for Update on American Pacific\n",
      " Sentiment Score: {'neg': 0.0, 'neu': 1.0, 'pos': 0.0, 'compound': 0.0}\n",
      "Educational Development Corporation  Announces Third Quarter Fiscal 2020 Results\n",
      " Sentiment Score: {'neg': 0.0, 'neu': 1.0, 'pos': 0.0, 'compound': 0.0}\n",
      "French regulatory agency agrees lacutamab TELLOMAK trial can resume recruitment in Sézary syndrome and mycosis fungoides \n",
      " Sentiment Score: {'neg': 0.0, 'neu': 0.893, 'pos': 0.107, 'compound': 0.2023}\n",
      "French Regulatory Agency Agrees lacutamab TELLOMAK Trial Can Resume Recruitment in Sezary Syndrome and mycosis fungoides\n",
      " Sentiment Score: {'neg': 0.0, 'neu': 0.893, 'pos': 0.107, 'compound': 0.2023}\n",
      "Precipio announces shareholder update call to kick off 2020\n",
      " Sentiment Score: {'neg': 0.0, 'neu': 1.0, 'pos': 0.0, 'compound': 0.0}\n"
     ]
    }
   ],
   "source": [
    "import nltk\n",
    "from nltk.sentiment.vader import SentimentIntensityAnalyzer\n",
    "sia = SentimentIntensityAnalyzer()\n",
    "for i, j in PC_News.iterrows(): \n",
    "    Passage = PC_News.News[i]\n",
    "    print(Passage)\n",
    "    print(\" Sentiment Score:\", sia.polarity_scores(Passage))"
   ]
  },
  {
   "cell_type": "code",
   "execution_count": null,
   "metadata": {},
   "outputs": [],
   "source": []
  },
  {
   "cell_type": "code",
   "execution_count": null,
   "metadata": {},
   "outputs": [],
   "source": []
  },
  {
   "cell_type": "markdown",
   "metadata": {},
   "source": [
    "## Merged all three dataframe into one DF"
   ]
  },
  {
   "cell_type": "code",
   "execution_count": null,
   "metadata": {},
   "outputs": [],
   "source": []
  },
  {
   "cell_type": "code",
   "execution_count": null,
   "metadata": {},
   "outputs": [],
   "source": []
  },
  {
   "cell_type": "code",
   "execution_count": null,
   "metadata": {},
   "outputs": [],
   "source": []
  },
  {
   "cell_type": "code",
   "execution_count": null,
   "metadata": {},
   "outputs": [],
   "source": []
  },
  {
   "cell_type": "code",
   "execution_count": null,
   "metadata": {},
   "outputs": [],
   "source": [
    "    "
   ]
  },
  {
   "cell_type": "code",
   "execution_count": null,
   "metadata": {},
   "outputs": [],
   "source": []
  },
  {
   "cell_type": "code",
   "execution_count": null,
   "metadata": {},
   "outputs": [],
   "source": []
  },
  {
   "cell_type": "code",
   "execution_count": null,
   "metadata": {},
   "outputs": [],
   "source": []
  }
 ],
 "metadata": {
  "kernelspec": {
   "display_name": "Python 3",
   "language": "python",
   "name": "python3"
  },
  "language_info": {
   "codemirror_mode": {
    "name": "ipython",
    "version": 3
   },
   "file_extension": ".py",
   "mimetype": "text/x-python",
   "name": "python",
   "nbconvert_exporter": "python",
   "pygments_lexer": "ipython3",
   "version": "3.7.4"
  }
 },
 "nbformat": 4,
 "nbformat_minor": 2
}
