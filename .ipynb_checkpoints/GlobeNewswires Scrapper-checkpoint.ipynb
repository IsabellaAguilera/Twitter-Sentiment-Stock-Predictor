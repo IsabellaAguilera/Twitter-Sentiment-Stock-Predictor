{
 "cells": [
  {
   "cell_type": "markdown",
   "metadata": {},
   "source": [
    "## Globenewswire Wire Scrape"
   ]
  },
  {
   "cell_type": "code",
   "execution_count": 6,
   "metadata": {},
   "outputs": [],
   "source": [
    "#Importing all the libraries required for scraping\n",
    "\n",
    "from splinter import Browser\n",
    "from bs4 import BeautifulSoup \n",
    "import requests\n",
    "import time\n",
    "import pandas as pd\n",
    "import pprint\n",
    "import webbrowser\n",
    "import urllib\n",
    "import re\n",
    "import pymongo\n"
   ]
  },
  {
   "cell_type": "code",
   "execution_count": 7,
   "metadata": {},
   "outputs": [],
   "source": [
    "# using the crome driver for scraping\n",
    "\n",
    "executable_path = {'executable_path': 'chromedriver.exe'}\n",
    "browser = Browser('chrome', **executable_path, headless=False)\n",
    "#browser = Browser()"
   ]
  },
  {
   "cell_type": "code",
   "execution_count": 18,
   "metadata": {
    "scrolled": true
   },
   "outputs": [
    {
     "name": "stdout",
     "output_type": "stream",
     "text": [
      "10\n",
      "10\n"
     ]
    }
   ],
   "source": [
    "# Url for main page\n",
    "list1 = [2, 3] \n",
    "for x in (list1):\n",
    "    \n",
    "    url = 'https://www.globenewswire.com/Index?page='+ str(x) +'#pagerPos'\n",
    "    browser.visit(url)\n",
    "\n",
    "    # parser\n",
    "    html = browser.html\n",
    "    soup = BeautifulSoup(html, 'html.parser')\n",
    "    time.sleep(5)\n",
    "\n",
    "# storing all the data from the main class\n",
    "    Data = soup.find_all('div',class_='rl-container')\n",
    "\n",
    "    print(len(Data))\n",
    "\n",
    "    news_url = []\n",
    "    news = []\n",
    "    headline = []\n",
    "# search variables Name and reviews within main class using for loop\n",
    "\n",
    "    for tr in Data:\n",
    "      if tr.find('a'):\n",
    "        headline.append(tr.find('p').text)\n",
    "        news_url.append(tr.find('a')['href'])\n",
    "        news.append(tr.find('a').text)\n",
    "    df = pd.DataFrame({\"Headline\": headline, \"News\":news,\"news_url\":news_url})\n",
    "    \n",
    "\n",
    "df.head()\n",
    "df.to_csv('OutputNews.csv')"
   ]
  },
  {
   "cell_type": "code",
   "execution_count": null,
   "metadata": {},
   "outputs": [],
   "source": [
    "\n"
   ]
  },
  {
   "cell_type": "markdown",
   "metadata": {},
   "source": [
    "## List only Nasdaq and NYSE listed companies"
   ]
  },
  {
   "cell_type": "code",
   "execution_count": 19,
   "metadata": {},
   "outputs": [
    {
     "name": "stdout",
     "output_type": "stream",
     "text": [
      "                                            Headline  \\\n",
      "0                                         NW Natural   \n",
      "1                              Noront Resources Ltd.   \n",
      "2                                       HMG Strategy   \n",
      "3            James E. Wagner Cultivation Corporation   \n",
      "4                                Winshear Gold Corp.   \n",
      "5                               SmartFinancial, Inc.   \n",
      "6  BlackRock Asset Management Canada Limited (iSh...   \n",
      "7                               DENTSPLY SIRONA Inc.   \n",
      "8                 PennantPark Investment Corporation   \n",
      "9             PennantPark Floating Rate Capital Ltd.   \n",
      "\n",
      "                                                News  \\\n",
      "0  NW Natural Holdings Schedules Earnings Release...   \n",
      "1  Noront Resources Announces Issuance of Interes...   \n",
      "2  CIO Leadership: Upcoming HMG Strategy Summit t...   \n",
      "3  James E. Wagner Cultivation Announces Closing ...   \n",
      "4  Winshear Delivers Notice of Intent to Submit a...   \n",
      "5  SmartFinancial Sets Fourth Quarter Earnings Re...   \n",
      "6  BlackRock® Canada Announces Update to the Fina...   \n",
      "7  Dentsply Sirona to Present at the 38th Annual ...   \n",
      "8  PennantPark Investment Corporation Schedules E...   \n",
      "9  PennantPark Floating Rate Capital Ltd. Schedul...   \n",
      "\n",
      "                                            news_url  \n",
      "0  /news-release/2020/01/10/1969150/0/en/NW-Natur...  \n",
      "1  /news-release/2020/01/10/1969151/0/en/Noront-R...  \n",
      "2  /news-release/2020/01/10/1969149/0/en/CIO-Lead...  \n",
      "3  /news-release/2020/01/10/1969148/0/en/James-E-...  \n",
      "4  /news-release/2020/01/10/1969144/0/en/Winshear...  \n",
      "5  /news-release/2020/01/10/1969147/0/en/SmartFin...  \n",
      "6  /news-release/2020/01/10/1969146/0/en/BlackRoc...  \n",
      "7  /news-release/2020/01/10/1969145/0/en/Dentsply...  \n",
      "8  /news-release/2020/01/10/1969143/0/en/PennantP...  \n",
      "9  /news-release/2020/01/10/1969142/0/en/PennantP...  \n"
     ]
    }
   ],
   "source": [
    "#NYSE_df = df[df.News.str.contains('NYSE',case=False)] \n",
    "#Nasdaq_df = df[df.News.str.contains('Nasdaq',case=False)] \n",
    "#PC_News = NYSE_df.append(Nasdaq_df, ignore_index=True)\n",
    "PC_News = df\n",
    "print(PC_News)"
   ]
  },
  {
   "cell_type": "code",
   "execution_count": null,
   "metadata": {
    "scrolled": true
   },
   "outputs": [],
   "source": []
  },
  {
   "cell_type": "code",
   "execution_count": null,
   "metadata": {},
   "outputs": [],
   "source": []
  },
  {
   "cell_type": "markdown",
   "metadata": {},
   "source": []
  },
  {
   "cell_type": "code",
   "execution_count": 20,
   "metadata": {},
   "outputs": [
    {
     "name": "stdout",
     "output_type": "stream",
     "text": [
      "NW Natural Holdings Schedules Earnings Release and Conference Call for Monday, March 2\n",
      " Sentiment Score: {'neg': 0.0, 'neu': 0.815, 'pos': 0.185, 'compound': 0.3612}\n",
      "Noront Resources Announces Issuance of Interest Shares \n",
      " Sentiment Score: {'neg': 0.0, 'neu': 0.49, 'pos': 0.51, 'compound': 0.6369}\n",
      "CIO Leadership: Upcoming HMG Strategy Summit to Spotlight Enterprise 2025: How CIOs Must Lead, Reimagine and Reinvent to Execute World-Class Business Strategies\n",
      " Sentiment Score: {'neg': 0.0, 'neu': 1.0, 'pos': 0.0, 'compound': 0.0}\n",
      "James E. Wagner Cultivation Announces Closing of $2 Million Convertible Security under Previously Announced Agreement With Lind Global Macro Fund, LP\n",
      " Sentiment Score: {'neg': 0.0, 'neu': 0.772, 'pos': 0.228, 'compound': 0.6808}\n",
      "Winshear Delivers Notice of Intent to Submit a Claim to Arbitration Under Canada-Tanzania Agreement for the Promotion and Reciprocal Protection of Investments\n",
      " Sentiment Score: {'neg': 0.0, 'neu': 0.862, 'pos': 0.138, 'compound': 0.4939}\n",
      "SmartFinancial Sets Fourth Quarter Earnings Release and Conference Call Dates\n",
      " Sentiment Score: {'neg': 0.0, 'neu': 1.0, 'pos': 0.0, 'compound': 0.0}\n",
      "BlackRock® Canada Announces Update to the Final Annual Reinvested Capital Gains Distributions for an iShares® ETF\n",
      " Sentiment Score: {'neg': 0.0, 'neu': 0.862, 'pos': 0.138, 'compound': 0.34}\n",
      "Dentsply Sirona to Present at the 38th Annual J.P. Morgan Healthcare Conference\n",
      " Sentiment Score: {'neg': 0.0, 'neu': 1.0, 'pos': 0.0, 'compound': 0.0}\n",
      "PennantPark Investment Corporation Schedules Earnings Release of First Fiscal Quarter 2020 Results\n",
      " Sentiment Score: {'neg': 0.0, 'neu': 1.0, 'pos': 0.0, 'compound': 0.0}\n",
      "PennantPark Floating Rate Capital Ltd. Schedules Earnings Release of First Fiscal Quarter 2020 Results\n",
      " Sentiment Score: {'neg': 0.0, 'neu': 1.0, 'pos': 0.0, 'compound': 0.0}\n"
     ]
    }
   ],
   "source": [
    "import nltk\n",
    "from nltk.sentiment.vader import SentimentIntensityAnalyzer\n",
    "sia = SentimentIntensityAnalyzer()\n",
    "for i, j in PC_News.iterrows(): \n",
    "    Passage = PC_News.News[i]\n",
    "    print(Passage)\n",
    "    print(\" Sentiment Score:\", sia.polarity_scores(Passage))"
   ]
  },
  {
   "cell_type": "code",
   "execution_count": null,
   "metadata": {},
   "outputs": [],
   "source": []
  },
  {
   "cell_type": "code",
   "execution_count": null,
   "metadata": {},
   "outputs": [],
   "source": []
  },
  {
   "cell_type": "markdown",
   "metadata": {},
   "source": [
    "## Merged all three dataframe into one DF"
   ]
  },
  {
   "cell_type": "code",
   "execution_count": null,
   "metadata": {},
   "outputs": [],
   "source": []
  },
  {
   "cell_type": "code",
   "execution_count": null,
   "metadata": {},
   "outputs": [],
   "source": []
  },
  {
   "cell_type": "code",
   "execution_count": null,
   "metadata": {},
   "outputs": [],
   "source": []
  },
  {
   "cell_type": "code",
   "execution_count": null,
   "metadata": {},
   "outputs": [],
   "source": []
  },
  {
   "cell_type": "code",
   "execution_count": null,
   "metadata": {},
   "outputs": [],
   "source": [
    "    "
   ]
  },
  {
   "cell_type": "code",
   "execution_count": null,
   "metadata": {},
   "outputs": [],
   "source": []
  },
  {
   "cell_type": "code",
   "execution_count": null,
   "metadata": {},
   "outputs": [],
   "source": []
  },
  {
   "cell_type": "code",
   "execution_count": null,
   "metadata": {},
   "outputs": [],
   "source": []
  }
 ],
 "metadata": {
  "kernelspec": {
   "display_name": "Python 3",
   "language": "python",
   "name": "python3"
  },
  "language_info": {
   "codemirror_mode": {
    "name": "ipython",
    "version": 3
   },
   "file_extension": ".py",
   "mimetype": "text/x-python",
   "name": "python",
   "nbconvert_exporter": "python",
   "pygments_lexer": "ipython3",
   "version": "3.7.4"
  }
 },
 "nbformat": 4,
 "nbformat_minor": 2
}
