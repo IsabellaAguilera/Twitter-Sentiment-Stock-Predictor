{
 "cells": [
  {
   "cell_type": "markdown",
   "metadata": {},
   "source": [
    "## PRNews Wire Scrape"
   ]
  },
  {
   "cell_type": "code",
   "execution_count": 1,
   "metadata": {},
   "outputs": [],
   "source": [
    "#Importing all the libraries required for scraping\n",
    "\n",
    "from splinter import Browser\n",
    "from bs4 import BeautifulSoup \n",
    "import requests\n",
    "import time\n",
    "import pandas as pd\n",
    "import pprint\n",
    "import webbrowser\n",
    "import urllib\n",
    "import re\n",
    "import pymongo\n"
   ]
  },
  {
   "cell_type": "code",
   "execution_count": 2,
   "metadata": {},
   "outputs": [],
   "source": [
    "# using the crome driver for scraping\n",
    "\n",
    "executable_path = {'executable_path': 'chromedriver.exe'}\n",
    "browser = Browser('chrome', **executable_path, headless=False)\n",
    "#browser = Browser()"
   ]
  },
  {
   "cell_type": "code",
   "execution_count": 3,
   "metadata": {
    "scrolled": true
   },
   "outputs": [
    {
     "name": "stdout",
     "output_type": "stream",
     "text": [
      "21\n"
     ]
    },
    {
     "data": {
      "text/html": [
       "<div>\n",
       "<style scoped>\n",
       "    .dataframe tbody tr th:only-of-type {\n",
       "        vertical-align: middle;\n",
       "    }\n",
       "\n",
       "    .dataframe tbody tr th {\n",
       "        vertical-align: top;\n",
       "    }\n",
       "\n",
       "    .dataframe thead th {\n",
       "        text-align: right;\n",
       "    }\n",
       "</style>\n",
       "<table border=\"1\" class=\"dataframe\">\n",
       "  <thead>\n",
       "    <tr style=\"text-align: right;\">\n",
       "      <th></th>\n",
       "      <th>Headline</th>\n",
       "      <th>News</th>\n",
       "      <th>news_url</th>\n",
       "    </tr>\n",
       "  </thead>\n",
       "  <tbody>\n",
       "    <tr>\n",
       "      <td>0</td>\n",
       "      <td>The CALIFORNIA ASSOCIATION OF REALTORS® (C.A.R...</td>\n",
       "      <td>California REALTORS® encouraged by Gov. Newsom...</td>\n",
       "      <td>/news-releases/california-realtors-encouraged-...</td>\n",
       "    </tr>\n",
       "    <tr>\n",
       "      <td>1</td>\n",
       "      <td>Préscolaire is thrilled to announce the openin...</td>\n",
       "      <td>New Ivy League Preschool Set to Open</td>\n",
       "      <td>/news-releases/new-ivy-league-preschool-set-to...</td>\n",
       "    </tr>\n",
       "    <tr>\n",
       "      <td>2</td>\n",
       "      <td>Na última quinta-feira(2), o presidente americ...</td>\n",
       "      <td>Pablo Borges, CEO da E-Price Capital, comenta ...</td>\n",
       "      <td>/news-releases/pablo-borges-ceo-da-e-price-cap...</td>\n",
       "    </tr>\n",
       "    <tr>\n",
       "      <td>3</td>\n",
       "      <td>Companion Medical, Inc., an innovative diabete...</td>\n",
       "      <td>Companion Medical Secures $27.5 Million Debt F...</td>\n",
       "      <td>/news-releases/companion-medical-secures-27-5-...</td>\n",
       "    </tr>\n",
       "    <tr>\n",
       "      <td>4</td>\n",
       "      <td>RM LAW, P.C. announces an investigation on beh...</td>\n",
       "      <td>RM LAW Announces Investigation of Surgery Part...</td>\n",
       "      <td>/news-releases/rm-law-announces-investigation-...</td>\n",
       "    </tr>\n",
       "  </tbody>\n",
       "</table>\n",
       "</div>"
      ],
      "text/plain": [
       "                                            Headline  \\\n",
       "0  The CALIFORNIA ASSOCIATION OF REALTORS® (C.A.R...   \n",
       "1  Préscolaire is thrilled to announce the openin...   \n",
       "2  Na última quinta-feira(2), o presidente americ...   \n",
       "3  Companion Medical, Inc., an innovative diabete...   \n",
       "4  RM LAW, P.C. announces an investigation on beh...   \n",
       "\n",
       "                                                News  \\\n",
       "0  California REALTORS® encouraged by Gov. Newsom...   \n",
       "1               New Ivy League Preschool Set to Open   \n",
       "2  Pablo Borges, CEO da E-Price Capital, comenta ...   \n",
       "3  Companion Medical Secures $27.5 Million Debt F...   \n",
       "4  RM LAW Announces Investigation of Surgery Part...   \n",
       "\n",
       "                                            news_url  \n",
       "0  /news-releases/california-realtors-encouraged-...  \n",
       "1  /news-releases/new-ivy-league-preschool-set-to...  \n",
       "2  /news-releases/pablo-borges-ceo-da-e-price-cap...  \n",
       "3  /news-releases/companion-medical-secures-27-5-...  \n",
       "4  /news-releases/rm-law-announces-investigation-...  "
      ]
     },
     "execution_count": 3,
     "metadata": {},
     "output_type": "execute_result"
    }
   ],
   "source": [
    "# Url for main page\n",
    "url = 'https://www.prnewswire.com/news-releases/financial-services-latest-news/financial-services-latest-news-list/'\n",
    "browser.visit(url)\n",
    "\n",
    "# updating the page by clicking on search button\n",
    "#browser.find_by_name('btnG').first.click()\n",
    "\n",
    "# parser\n",
    "html = browser.html\n",
    "soup = BeautifulSoup(html, 'html.parser')\n",
    "time.sleep(5)\n",
    "\n",
    "# storing all the data from the main class\n",
    "Data = soup.find_all('div',class_='col-sm-8 col-lg-9 pull-left card')\n",
    "\n",
    "print(len(Data))\n",
    "\n",
    "news_url = []\n",
    "news = []\n",
    "headline = []\n",
    "# search variables Name and reviews within main class using for loop\n",
    "\n",
    "for tr in Data:\n",
    "  if tr.find('a'):\n",
    "    headline.append(tr.find('p').text)\n",
    "    news_url.append(tr.find('a')['href'])\n",
    "    news.append(tr.find('a').text)\n",
    "df1 = pd.DataFrame({\"Headline\": headline, \"News\":news,\"news_url\":news_url})\n",
    "df1.head()"
   ]
  },
  {
   "cell_type": "code",
   "execution_count": 5,
   "metadata": {},
   "outputs": [
    {
     "name": "stdout",
     "output_type": "stream",
     "text": [
      "4\n",
      "                                            Headline  \\\n",
      "0  Current tension between the United States and ...   \n",
      "1  The China Fund, Inc. (NYSE: CHN) (the \"Fund\") ...   \n",
      "2  Investment Community Teleconference Set for Fe...   \n",
      "3  Nelnet, Inc. (NYSE: NNI) today announced it wi...   \n",
      "\n",
      "                                                News  \\\n",
      "0  Travel Insurance Amidst Political Uncertainty,...   \n",
      "1  The China Fund, Inc. Announces Date of Annual ...   \n",
      "2  Hydro One Fourth Quarter 2019 Results Release ...   \n",
      "3  Nelnet to Announce Fourth Quarter and Year-End...   \n",
      "\n",
      "                                            news_url  \n",
      "0  /news-releases/travel-insurance-amidst-politic...  \n",
      "1  /news-releases/the-china-fund-inc-announces-da...  \n",
      "2  /news-releases/hydro-one-fourth-quarter-2019-r...  \n",
      "3  /news-releases/nelnet-to-announce-fourth-quart...  \n"
     ]
    }
   ],
   "source": [
    "Data1 = soup.find_all('div',class_='col-sm-12 card')\n",
    "\n",
    "print(len(Data1))\n",
    "\n",
    "news_url = []\n",
    "news = []\n",
    "headline = []\n",
    "# search variables Name and reviews within main class using for loop\n",
    "\n",
    "for tr in Data1:\n",
    "  if tr.find('a'):\n",
    "    headline.append(tr.find('p').text)\n",
    "    news_url.append(tr.find('a')['href'])\n",
    "    news.append(tr.find('a').text)\n",
    "df2 = pd.DataFrame({\"Headline\": headline, \"News\":news,\"news_url\":news_url})\n",
    "print(df2.head())\n",
    "df = df1.append(df2, ignore_index=True)\n"
   ]
  },
  {
   "cell_type": "code",
   "execution_count": 7,
   "metadata": {},
   "outputs": [
    {
     "name": "stdout",
     "output_type": "stream",
     "text": [
      "                                            Headline  \\\n",
      "0  The CALIFORNIA ASSOCIATION OF REALTORS® (C.A.R...   \n",
      "1  Préscolaire is thrilled to announce the openin...   \n",
      "2  Na última quinta-feira(2), o presidente americ...   \n",
      "3  Companion Medical, Inc., an innovative diabete...   \n",
      "4  RM LAW, P.C. announces an investigation on beh...   \n",
      "\n",
      "                                                News  \\\n",
      "0  California REALTORS® encouraged by Gov. Newsom...   \n",
      "1               New Ivy League Preschool Set to Open   \n",
      "2  Pablo Borges, CEO da E-Price Capital, comenta ...   \n",
      "3  Companion Medical Secures $27.5 Million Debt F...   \n",
      "4  RM LAW Announces Investigation of Surgery Part...   \n",
      "\n",
      "                                            news_url  \n",
      "0  /news-releases/california-realtors-encouraged-...  \n",
      "1  /news-releases/new-ivy-league-preschool-set-to...  \n",
      "2  /news-releases/pablo-borges-ceo-da-e-price-cap...  \n",
      "3  /news-releases/companion-medical-secures-27-5-...  \n",
      "4  /news-releases/rm-law-announces-investigation-...  \n"
     ]
    }
   ],
   "source": [
    "print(df.head())\n",
    "\n"
   ]
  },
  {
   "cell_type": "markdown",
   "metadata": {},
   "source": [
    "## List only Nasdaq and NYSE listed companies"
   ]
  },
  {
   "cell_type": "code",
   "execution_count": 8,
   "metadata": {},
   "outputs": [],
   "source": [
    "NYSE_df = df[df.Headline.str.contains('NYSE',case=False)] \n",
    "Nasdaq_df = df[df.Headline.str.contains('NASDAQ',case=False)] \n",
    "PC_News = NYSE_df.append(Nasdaq_df, ignore_index=True)\n"
   ]
  },
  {
   "cell_type": "code",
   "execution_count": 9,
   "metadata": {
    "scrolled": true
   },
   "outputs": [
    {
     "name": "stdout",
     "output_type": "stream",
     "text": [
      "The India Fund, Inc. (NYSE: IFN) (the \"Fund\"), a closed-end equity fund, today announced that it paid on January 10, 2020, a distribution of US$0.57...\n",
      "IFN\n",
      "Aberdeen Global Premier Properties Fund (NYSE: AWP) (the \"Fund\"), a closed-end fund, today announced that it paid on January 10, 2020, a distribution ...\n",
      "AWP\n",
      "Aon plc (NYSE:AON), the leading global professional services firm providing a broad range of risk, retirement and health solutions, announced today...\n",
      "AON,\n",
      "Synchrony (NYSE: SYF), a premier consumer financial services company, participated in the fifth annual \"Doubles Dive\" by plunging into the chilly...\n",
      "SYF,\n",
      "Aberdeen Global Premier Properties Fund (NYSE: AWP) (the \"Fund\"), a closed-end fund, today announced that it will pay on January 28, 2020, a...\n",
      "AWP\n",
      "Aberdeen Total Dynamic Dividend Fund (NYSE: AOD) (the \"Fund\"), a closed-end fund, announced today that it will pay a distribution of US $0.0575 per...\n",
      "AOD\n",
      "Aberdeen Global Dynamic Dividend Fund (NYSE: AGD) (the \"Fund\"), a closed-end fund, announced today that it will pay a distribution of US $0.065 per...\n",
      "AGD\n",
      "Aberdeen Asia-Pacific Income Fund, Inc. (NYSE American: FAX) (the \"Fund\"), a closed-end fund, today announced that it paid on January 10, 2020, a...\n",
      "FAX\n",
      "Aberdeen Australia Equity Fund, Inc. (NYSE American: IAF) (the \"Fund\"), a closed-end equity fund, today announced that it paid on January 10, 2020 a...\n",
      "IAF\n",
      "Aberdeen Asia-Pacific Income Fund, Inc. (NYSE American: FAX) (the \"Fund\"), a closed-end fund, today announced that it will pay on January 28, 2020, a ...\n",
      "FAX\n",
      "Aberdeen Income Credit Strategies Fund (NYSE: ACP) (the \"Fund\"), a closed-end fund, announced today that it will pay a distribution of US $0.12 per...\n",
      "ACP\n",
      "Aberdeen Global Income Fund, Inc. (NYSE American: FCO) (the \"Fund\"), a closed-end fund, today announced that it will pay on January 28, 2020, a...\n",
      "FCO\n",
      "Aberdeen Global Income Fund, Inc. (NYSE American: FCO) (the \"Fund\"), a closed-end fund, today announced that it paid on January 10, 2020, a...\n",
      "FCO\n",
      "Meritor, Inc. (NYSE: MTOR) will host a conference call and webcast to discuss the company's first-quarter results for fiscal year 2020 on Thursday,...\n",
      "MTOR\n",
      "The China Fund, Inc. (NYSE: CHN) (the \"Fund\") announced today that the Fund's annual stockholder meeting (the \"Meeting\") will be held Thursday, March ...\n",
      "CHN\n",
      "Nelnet, Inc. (NYSE: NNI) today announced it will release earnings for the fourth quarter and year ended December 31, 2019, after the close of the New ...\n",
      "NNI\n",
      "RM LAW, P.C. announces an investigation on behalf of Surgery Partners, Inc. (\"Surgery Partners\" or the \"Company\") (NASDAQ: SGRY) investors concerning ...\n",
      "SGRY\n",
      "Cathay General Bancorp (Nasdaq: CATY), the holding company for Cathay Bank, is scheduled to announce its fourth quarter and full year 2019 financial...\n",
      "CATY,\n"
     ]
    }
   ],
   "source": [
    "# Extract the ticker\n",
    "Ticker = [] for i, j in PC_News.iterrows(): \n",
    "\n",
    "    s = PC_News.Headline[i]\n",
    "    print(s)\n",
    "    q = 'NASDAQ'\n",
    "    res = s[s.find(q)+len(q):].split(':')[1]\n",
    "    res1 = res.split()[0]\n",
    "    \n",
    "    q = 'NYSE'\n",
    "    res = s[s.find(q)+len(q):].split(':')[1]\n",
    "    res1 = res.split()[0].replace(')', '')\n",
    "    Ticker.append(res1)\n",
    "    print(res1)\n",
    "PC_News[\"Ticker\"] = Ticker\n"
   ]
  },
  {
   "cell_type": "code",
   "execution_count": 10,
   "metadata": {},
   "outputs": [
    {
     "name": "stdout",
     "output_type": "stream",
     "text": [
      "                                            Headline  \\\n",
      "0  The India Fund, Inc. (NYSE: IFN) (the \"Fund\"),...   \n",
      "1  Aberdeen Global Premier Properties Fund (NYSE:...   \n",
      "2  Aon plc (NYSE:AON), the leading global profess...   \n",
      "3  Synchrony (NYSE: SYF), a premier consumer fina...   \n",
      "4  Aberdeen Global Premier Properties Fund (NYSE:...   \n",
      "\n",
      "                                                News  \\\n",
      "0  The India Fund, Inc. Announces Payment Of Quar...   \n",
      "1  Aberdeen Global Premier Properties Fund Announ...   \n",
      "2                    Aon Declares Quarterly Dividend   \n",
      "3  Synchrony Employees Take Polar Plunge for Charity   \n",
      "4  Aberdeen Global Premier Properties Fund Announ...   \n",
      "\n",
      "                                            news_url Ticker  \n",
      "0  /news-releases/the-india-fund-inc-announces-pa...    IFN  \n",
      "1  /news-releases/aberdeen-global-premier-propert...    AWP  \n",
      "2  /news-releases/aon-declares-quarterly-dividend...   AON,  \n",
      "3  /news-releases/synchrony-employees-take-polar-...   SYF,  \n",
      "4  /news-releases/aberdeen-global-premier-propert...    AWP  \n"
     ]
    }
   ],
   "source": [
    "print(PC_News.head())\n",
    "PC_News.to_csv('OutputNews.csv')"
   ]
  },
  {
   "cell_type": "markdown",
   "metadata": {},
   "source": []
  },
  {
   "cell_type": "code",
   "execution_count": 27,
   "metadata": {},
   "outputs": [
    {
     "name": "stdout",
     "output_type": "stream",
     "text": [
      "The India Fund, Inc. Announces Payment Of Quarterly Distribution\n",
      " Sentiment Score: {'neg': 0.0, 'neu': 1.0, 'pos': 0.0, 'compound': 0.0}\n",
      "Aberdeen Global Premier Properties Fund Announces Payment Of Monthly Distribution\n",
      " Sentiment Score: {'neg': 0.0, 'neu': 1.0, 'pos': 0.0, 'compound': 0.0}\n",
      "Aon Declares Quarterly Dividend\n",
      " Sentiment Score: {'neg': 0.0, 'neu': 1.0, 'pos': 0.0, 'compound': 0.0}\n",
      "Synchrony Employees Take Polar Plunge for Charity\n",
      " Sentiment Score: {'neg': 0.0, 'neu': 0.682, 'pos': 0.318, 'compound': 0.4215}\n",
      "Aberdeen Global Premier Properties Fund Announces Record Date And Payment Date For Monthly Distribution\n",
      " Sentiment Score: {'neg': 0.0, 'neu': 1.0, 'pos': 0.0, 'compound': 0.0}\n",
      "Aberdeen Total Dynamic Dividend Fund Announces Monthly Distribution\n",
      " Sentiment Score: {'neg': 0.0, 'neu': 0.729, 'pos': 0.271, 'compound': 0.3818}\n",
      "Aberdeen Global Dynamic Dividend Fund Announces Monthly Distribution\n",
      " Sentiment Score: {'neg': 0.0, 'neu': 0.729, 'pos': 0.271, 'compound': 0.3818}\n",
      "Aberdeen Asia-Pacific Income Fund, Inc. Announces Payment Of Monthly Distribution\n",
      " Sentiment Score: {'neg': 0.0, 'neu': 1.0, 'pos': 0.0, 'compound': 0.0}\n",
      "Aberdeen Australia Equity Fund, Inc. Announces Record Date And Payment Date For Quarterly Distribution\n",
      " Sentiment Score: {'neg': 0.0, 'neu': 1.0, 'pos': 0.0, 'compound': 0.0}\n",
      "Aberdeen Asia-Pacific Income Fund, Inc. Announces Record Date And Payment Date For Monthly Distribution\n",
      " Sentiment Score: {'neg': 0.0, 'neu': 1.0, 'pos': 0.0, 'compound': 0.0}\n",
      "Aberdeen Income Credit Strategies Fund Announces Monthly Distribution\n",
      " Sentiment Score: {'neg': 0.0, 'neu': 0.729, 'pos': 0.271, 'compound': 0.3818}\n",
      "Aberdeen Global Income Fund, Inc. Announces Record Date And Payment Date For Monthly Distribution\n",
      " Sentiment Score: {'neg': 0.0, 'neu': 1.0, 'pos': 0.0, 'compound': 0.0}\n",
      "Aberdeen Global Income Fund, Inc. Announces Payment Of Monthly Distribution\n",
      " Sentiment Score: {'neg': 0.0, 'neu': 1.0, 'pos': 0.0, 'compound': 0.0}\n",
      "Meritor Hosts Conference Call and Webcast to Present Fiscal Year 2020 First-Quarter Earnings Results\n",
      " Sentiment Score: {'neg': 0.0, 'neu': 1.0, 'pos': 0.0, 'compound': 0.0}\n",
      "The China Fund, Inc. Announces Date of Annual Meeting of Stockholders\n",
      " Sentiment Score: {'neg': 0.0, 'neu': 1.0, 'pos': 0.0, 'compound': 0.0}\n",
      "Nelnet to Announce Fourth Quarter and Year-End Results\n",
      " Sentiment Score: {'neg': 0.0, 'neu': 1.0, 'pos': 0.0, 'compound': 0.0}\n",
      "RM LAW Announces Investigation of Surgery Partners, Inc.\n",
      " Sentiment Score: {'neg': 0.0, 'neu': 1.0, 'pos': 0.0, 'compound': 0.0}\n",
      "Cathay General Bancorp to Announce Fourth Quarter and Full Year 2019 Financial Results\n",
      " Sentiment Score: {'neg': 0.0, 'neu': 1.0, 'pos': 0.0, 'compound': 0.0}\n"
     ]
    }
   ],
   "source": [
    "import nltk\n",
    "from nltk.sentiment.vader import SentimentIntensityAnalyzer\n",
    "sia = SentimentIntensityAnalyzer()\n",
    "for i, j in PC_News.iterrows(): \n",
    "    Passage = PC_News.News[i]\n",
    "    print(Passage)\n",
    "    print(\" Sentiment Score:\", sia.polarity_scores(Passage))"
   ]
  },
  {
   "cell_type": "code",
   "execution_count": null,
   "metadata": {},
   "outputs": [],
   "source": []
  },
  {
   "cell_type": "code",
   "execution_count": null,
   "metadata": {},
   "outputs": [],
   "source": []
  },
  {
   "cell_type": "markdown",
   "metadata": {},
   "source": [
    "## Merged all three dataframe into one DF"
   ]
  },
  {
   "cell_type": "code",
   "execution_count": null,
   "metadata": {},
   "outputs": [],
   "source": []
  },
  {
   "cell_type": "code",
   "execution_count": null,
   "metadata": {},
   "outputs": [],
   "source": []
  },
  {
   "cell_type": "code",
   "execution_count": null,
   "metadata": {},
   "outputs": [],
   "source": []
  },
  {
   "cell_type": "code",
   "execution_count": null,
   "metadata": {},
   "outputs": [],
   "source": []
  },
  {
   "cell_type": "code",
   "execution_count": null,
   "metadata": {},
   "outputs": [],
   "source": [
    "    "
   ]
  },
  {
   "cell_type": "code",
   "execution_count": null,
   "metadata": {},
   "outputs": [],
   "source": []
  },
  {
   "cell_type": "code",
   "execution_count": null,
   "metadata": {},
   "outputs": [],
   "source": []
  },
  {
   "cell_type": "code",
   "execution_count": null,
   "metadata": {},
   "outputs": [],
   "source": []
  }
 ],
 "metadata": {
  "kernelspec": {
   "display_name": "Python 3",
   "language": "python",
   "name": "python3"
  },
  "language_info": {
   "codemirror_mode": {
    "name": "ipython",
    "version": 3
   },
   "file_extension": ".py",
   "mimetype": "text/x-python",
   "name": "python",
   "nbconvert_exporter": "python",
   "pygments_lexer": "ipython3",
   "version": "3.7.4"
  }
 },
 "nbformat": 4,
 "nbformat_minor": 2
}
