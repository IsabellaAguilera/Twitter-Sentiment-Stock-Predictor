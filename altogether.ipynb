{
 "cells": [
  {
   "cell_type": "code",
   "execution_count": 37,
   "metadata": {},
   "outputs": [],
   "source": [
    "import twitter_data\n",
    "import stock_data\n",
    "from twitter_data import data_creator_predict\n",
    "import pandas as pd\n",
    "from sklearn.model_selection import train_test_split\n",
    "from sklearn.preprocessing import StandardScaler\n",
    "import numpy as np\n",
    "from tensorflow.keras.models import load_model"
   ]
  },
  {
   "cell_type": "code",
   "execution_count": 2,
   "metadata": {},
   "outputs": [],
   "source": [
    "x = twitter_data.search_predict(\"Apple Inc\")"
   ]
  },
  {
   "cell_type": "code",
   "execution_count": 3,
   "metadata": {},
   "outputs": [],
   "source": [
    "df = pd.read_csv('training_data.csv')"
   ]
  },
  {
   "cell_type": "code",
   "execution_count": 4,
   "metadata": {},
   "outputs": [
    {
     "data": {
      "text/html": [
       "<div>\n",
       "<style scoped>\n",
       "    .dataframe tbody tr th:only-of-type {\n",
       "        vertical-align: middle;\n",
       "    }\n",
       "\n",
       "    .dataframe tbody tr th {\n",
       "        vertical-align: top;\n",
       "    }\n",
       "\n",
       "    .dataframe thead th {\n",
       "        text-align: right;\n",
       "    }\n",
       "</style>\n",
       "<table border=\"1\" class=\"dataframe\">\n",
       "  <thead>\n",
       "    <tr style=\"text-align: right;\">\n",
       "      <th></th>\n",
       "      <th>Unnamed: 0</th>\n",
       "      <th>index</th>\n",
       "      <th>negative</th>\n",
       "      <th>positive</th>\n",
       "      <th>total</th>\n",
       "      <th>Price Change_down</th>\n",
       "      <th>Price Change_up</th>\n",
       "    </tr>\n",
       "  </thead>\n",
       "  <tbody>\n",
       "    <tr>\n",
       "      <th>0</th>\n",
       "      <td>0</td>\n",
       "      <td>0</td>\n",
       "      <td>0.092025</td>\n",
       "      <td>0.343558</td>\n",
       "      <td>163.0</td>\n",
       "      <td>0</td>\n",
       "      <td>1</td>\n",
       "    </tr>\n",
       "    <tr>\n",
       "      <th>1</th>\n",
       "      <td>1</td>\n",
       "      <td>1</td>\n",
       "      <td>0.414365</td>\n",
       "      <td>0.287293</td>\n",
       "      <td>181.0</td>\n",
       "      <td>0</td>\n",
       "      <td>1</td>\n",
       "    </tr>\n",
       "    <tr>\n",
       "      <th>2</th>\n",
       "      <td>2</td>\n",
       "      <td>2</td>\n",
       "      <td>0.125000</td>\n",
       "      <td>0.615000</td>\n",
       "      <td>200.0</td>\n",
       "      <td>1</td>\n",
       "      <td>0</td>\n",
       "    </tr>\n",
       "    <tr>\n",
       "      <th>3</th>\n",
       "      <td>3</td>\n",
       "      <td>3</td>\n",
       "      <td>0.115000</td>\n",
       "      <td>0.245000</td>\n",
       "      <td>200.0</td>\n",
       "      <td>1</td>\n",
       "      <td>0</td>\n",
       "    </tr>\n",
       "    <tr>\n",
       "      <th>4</th>\n",
       "      <td>4</td>\n",
       "      <td>4</td>\n",
       "      <td>0.165829</td>\n",
       "      <td>0.261307</td>\n",
       "      <td>199.0</td>\n",
       "      <td>0</td>\n",
       "      <td>1</td>\n",
       "    </tr>\n",
       "  </tbody>\n",
       "</table>\n",
       "</div>"
      ],
      "text/plain": [
       "   Unnamed: 0  index  negative  positive  total  Price Change_down  \\\n",
       "0           0      0  0.092025  0.343558  163.0                  0   \n",
       "1           1      1  0.414365  0.287293  181.0                  0   \n",
       "2           2      2  0.125000  0.615000  200.0                  1   \n",
       "3           3      3  0.115000  0.245000  200.0                  1   \n",
       "4           4      4  0.165829  0.261307  199.0                  0   \n",
       "\n",
       "   Price Change_up  \n",
       "0                1  \n",
       "1                1  \n",
       "2                0  \n",
       "3                0  \n",
       "4                1  "
      ]
     },
     "execution_count": 4,
     "metadata": {},
     "output_type": "execute_result"
    }
   ],
   "source": [
    "df.head()"
   ]
  },
  {
   "cell_type": "code",
   "execution_count": 5,
   "metadata": {},
   "outputs": [],
   "source": [
    "def xScaler():\n",
    "    x = np.array([[1.16666667, 0.66666667],[0.6131379 , 1.52368464],[0.9011529 , 1.42572293],[0.91221833, 1.75215763],[0.35060131, 1.75027643],[1.33333333, 0.93333333],[0.        , 2.79100529],[0.3488813 , 1.69110366],[1.0224359 , 3.37703963]])\n",
    "    \n",
    "    X_scaler = StandardScaler().fit(x)\n",
    "    return X_scaler\n",
    "    "
   ]
  },
  {
   "cell_type": "code",
   "execution_count": 59,
   "metadata": {},
   "outputs": [],
   "source": [
    "def ml_data_formatter(data5): \n",
    "    try:\n",
    "        data5['Price Change_up'].astype('int64')\n",
    "    except:\n",
    "        try:\n",
    "            data5['Price Change_down'].astype('int64')\n",
    "            if data5.iloc[0,3] == 1:\n",
    "                data5.iloc[0,3] = 0\n",
    "            else:\n",
    "                data4.iloc[0,3] = 1\n",
    "        except:\n",
    "            try:\n",
    "                data5 = data5.T\n",
    "                data5['Price Change_up'].astype('int64')\n",
    "            except:\n",
    "                try:\n",
    "                    data5['Price Change_down'].astype('int64')\n",
    "                    if data5.iloc[0,3] == 1:\n",
    "                        data5.iloc[0,3] = 0\n",
    "                    else:\n",
    "                        data4.iloc[0,3] = 1\n",
    "                finally:\n",
    "                    print('Not a valid company')\n",
    "    data6x = []\n",
    "    tempx = np.array([])\n",
    "    for i in range(len(data5)):\n",
    "        negative = data5.iloc[i,0]\n",
    "        positive = data5.iloc[i,1]\n",
    "        if i == 0:\n",
    "            tempx = np.append(tempx, [negative, positive])\n",
    "        else:\n",
    "            tempx[0][0] += negative\n",
    "            tempx[0][1] += positive\n",
    "    data6x.append(tempx)\n",
    "        \n",
    "    #print(data6x)\n",
    "    X = np.asarray(data6x)\n",
    "    #print(X)\n",
    "    X_scaler = xScaler()\n",
    "    X_scaled = X_scaler.transform(X)\n",
    "    \n",
    "    return X_scaled\n",
    "\n"
   ]
  },
  {
   "cell_type": "code",
   "execution_count": 49,
   "metadata": {},
   "outputs": [],
   "source": [
    "def get_sentiment(df):\n",
    "    negative = []\n",
    "    positive = []\n",
    "    for i in range(len(df)):\n",
    "        negative.append(df.iloc[i,0])\n",
    "        positive.append(df.iloc[i,1])\n",
    "    neg_avg = sum(negative)/len(negative)\n",
    "    pos_avg = sum(positive)/len(positive)\n",
    "    averages = [neg_avg, pos_avg]\n",
    "    return averages"
   ]
  },
  {
   "cell_type": "code",
   "execution_count": 26,
   "metadata": {},
   "outputs": [],
   "source": [
    "def stock_prediction(X, model):\n",
    "    prediction = model.predict_classes(X)\n",
    "    if prediction == 1:\n",
    "        return 'Buy'\n",
    "    else:\n",
    "        return 'Sell'"
   ]
  },
  {
   "cell_type": "code",
   "execution_count": 27,
   "metadata": {},
   "outputs": [
    {
     "name": "stderr",
     "output_type": "stream",
     "text": [
      "/Users/PatBeljan/Desktop/Bootcamp/final_project/twitter_data.py:214: SettingWithCopyWarning: \n",
      "A value is trying to be set on a copy of a slice from a DataFrame.\n",
      "Try using .loc[row_indexer,col_indexer] = value instead\n",
      "\n",
      "See the caveats in the documentation: http://pandas.pydata.org/pandas-docs/stable/indexing.html#indexing-view-versus-copy\n",
      "  stock['Date'] = stock['Date'].astype('str')\n"
     ]
    }
   ],
   "source": [
    "twitter_data = data_creator_predict('Apple Inc')"
   ]
  },
  {
   "cell_type": "code",
   "execution_count": 28,
   "metadata": {},
   "outputs": [
    {
     "data": {
      "text/html": [
       "<div>\n",
       "<style scoped>\n",
       "    .dataframe tbody tr th:only-of-type {\n",
       "        vertical-align: middle;\n",
       "    }\n",
       "\n",
       "    .dataframe tbody tr th {\n",
       "        vertical-align: top;\n",
       "    }\n",
       "\n",
       "    .dataframe thead th {\n",
       "        text-align: right;\n",
       "    }\n",
       "</style>\n",
       "<table border=\"1\" class=\"dataframe\">\n",
       "  <thead>\n",
       "    <tr style=\"text-align: right;\">\n",
       "      <th></th>\n",
       "      <th>negative</th>\n",
       "      <th>positive</th>\n",
       "      <th>total</th>\n",
       "      <th>Price Change_up</th>\n",
       "    </tr>\n",
       "  </thead>\n",
       "  <tbody>\n",
       "    <tr>\n",
       "      <th>0</th>\n",
       "      <td>0.16</td>\n",
       "      <td>0.226667</td>\n",
       "      <td>300.0</td>\n",
       "      <td>1</td>\n",
       "    </tr>\n",
       "  </tbody>\n",
       "</table>\n",
       "</div>"
      ],
      "text/plain": [
       "   negative  positive  total  Price Change_up\n",
       "0      0.16  0.226667  300.0                1"
      ]
     },
     "execution_count": 28,
     "metadata": {},
     "output_type": "execute_result"
    }
   ],
   "source": [
    "twitter_data"
   ]
  },
  {
   "cell_type": "code",
   "execution_count": 10,
   "metadata": {},
   "outputs": [],
   "source": [
    "data = pd.DataFrame(df.iloc[:2]).T"
   ]
  },
  {
   "cell_type": "code",
   "execution_count": 11,
   "metadata": {},
   "outputs": [
    {
     "data": {
      "text/html": [
       "<div>\n",
       "<style scoped>\n",
       "    .dataframe tbody tr th:only-of-type {\n",
       "        vertical-align: middle;\n",
       "    }\n",
       "\n",
       "    .dataframe tbody tr th {\n",
       "        vertical-align: top;\n",
       "    }\n",
       "\n",
       "    .dataframe thead th {\n",
       "        text-align: right;\n",
       "    }\n",
       "</style>\n",
       "<table border=\"1\" class=\"dataframe\">\n",
       "  <thead>\n",
       "    <tr style=\"text-align: right;\">\n",
       "      <th></th>\n",
       "      <th>0</th>\n",
       "      <th>1</th>\n",
       "    </tr>\n",
       "  </thead>\n",
       "  <tbody>\n",
       "    <tr>\n",
       "      <th>Unnamed: 0</th>\n",
       "      <td>0.000000</td>\n",
       "      <td>1.000000</td>\n",
       "    </tr>\n",
       "    <tr>\n",
       "      <th>index</th>\n",
       "      <td>0.000000</td>\n",
       "      <td>1.000000</td>\n",
       "    </tr>\n",
       "    <tr>\n",
       "      <th>negative</th>\n",
       "      <td>0.092025</td>\n",
       "      <td>0.414365</td>\n",
       "    </tr>\n",
       "    <tr>\n",
       "      <th>positive</th>\n",
       "      <td>0.343558</td>\n",
       "      <td>0.287293</td>\n",
       "    </tr>\n",
       "    <tr>\n",
       "      <th>total</th>\n",
       "      <td>163.000000</td>\n",
       "      <td>181.000000</td>\n",
       "    </tr>\n",
       "    <tr>\n",
       "      <th>Price Change_down</th>\n",
       "      <td>0.000000</td>\n",
       "      <td>0.000000</td>\n",
       "    </tr>\n",
       "    <tr>\n",
       "      <th>Price Change_up</th>\n",
       "      <td>1.000000</td>\n",
       "      <td>1.000000</td>\n",
       "    </tr>\n",
       "  </tbody>\n",
       "</table>\n",
       "</div>"
      ],
      "text/plain": [
       "                            0           1\n",
       "Unnamed: 0           0.000000    1.000000\n",
       "index                0.000000    1.000000\n",
       "negative             0.092025    0.414365\n",
       "positive             0.343558    0.287293\n",
       "total              163.000000  181.000000\n",
       "Price Change_down    0.000000    0.000000\n",
       "Price Change_up      1.000000    1.000000"
      ]
     },
     "execution_count": 11,
     "metadata": {},
     "output_type": "execute_result"
    }
   ],
   "source": [
    "data"
   ]
  },
  {
   "cell_type": "code",
   "execution_count": 29,
   "metadata": {},
   "outputs": [],
   "source": [
    "data2 = ml_data_formatter(twitter_data)"
   ]
  },
  {
   "cell_type": "code",
   "execution_count": 35,
   "metadata": {},
   "outputs": [
    {
     "data": {
      "text/plain": [
       "-1.9318204314210878"
      ]
     },
     "execution_count": 35,
     "metadata": {},
     "output_type": "execute_result"
    }
   ],
   "source": [
    "data2[0][1]"
   ]
  },
  {
   "cell_type": "code",
   "execution_count": 31,
   "metadata": {},
   "outputs": [
    {
     "data": {
      "text/plain": [
       "'Buy'"
      ]
     },
     "execution_count": 31,
     "metadata": {},
     "output_type": "execute_result"
    }
   ],
   "source": [
    "stock_prediction(data2, model)"
   ]
  },
  {
   "cell_type": "code",
   "execution_count": null,
   "metadata": {},
   "outputs": [],
   "source": [
    "X = df[['negative', 'positive', 'total']].values\n",
    "y = df[['Price Change_down', 'Price Change_up']].values"
   ]
  },
  {
   "cell_type": "code",
   "execution_count": null,
   "metadata": {},
   "outputs": [],
   "source": [
    "X"
   ]
  },
  {
   "cell_type": "code",
   "execution_count": null,
   "metadata": {},
   "outputs": [],
   "source": [
    "X_input = np.asarray([X])"
   ]
  },
  {
   "cell_type": "code",
   "execution_count": 15,
   "metadata": {},
   "outputs": [],
   "source": [
    "model = load_model(\"Twitter_Sentiment_Stock_Model.h5\")"
   ]
  },
  {
   "cell_type": "code",
   "execution_count": null,
   "metadata": {},
   "outputs": [],
   "source": [
    "X_scaler = StandardScaler().fit(X)\n",
    "X_train_scaled = X_scaler.transform(X)"
   ]
  },
  {
   "cell_type": "code",
   "execution_count": 50,
   "metadata": {},
   "outputs": [],
   "source": [
    "def get_Prediction(company_name):\n",
    "    model = load_model(\"Twitter_Sentiment_Stock_Model.h5\")\n",
    "    try:\n",
    "        data = data_creator_predict(company_name)\n",
    "    except:\n",
    "        print('Not a valid company name')\n",
    "        return None\n",
    "    ml_data = ml_data_formatter(data)\n",
    "    prediction = stock_prediction(ml_data, model)\n",
    "    json_return = {}\n",
    "    json_return['prediction'] = prediction\n",
    "    averages = get_sentiment(data)\n",
    "    json_return['positive'] = averages[1]\n",
    "    json_return['negative'] = averages[0]\n",
    "    try:\n",
    "        json_return['Closing Prices'] = stock_data.find_ticker_data(company_name).iloc[-5:,0].tolist()\n",
    "    except:\n",
    "        print('Not a valid company name')\n",
    "        return None\n",
    "    return json_return"
   ]
  },
  {
   "cell_type": "code",
   "execution_count": 41,
   "metadata": {},
   "outputs": [
    {
     "data": {
      "text/plain": [
       "[310.33, 316.96, 312.68, 311.34, 314.2]"
      ]
     },
     "execution_count": 41,
     "metadata": {},
     "output_type": "execute_result"
    }
   ],
   "source": [
    "stock_data.find_ticker_data('Apple Inc').iloc[-5:,0].tolist()"
   ]
  },
  {
   "cell_type": "code",
   "execution_count": 60,
   "metadata": {},
   "outputs": [
    {
     "name": "stderr",
     "output_type": "stream",
     "text": [
      "/Users/PatBeljan/Desktop/Bootcamp/final_project/twitter_data.py:214: SettingWithCopyWarning: \n",
      "A value is trying to be set on a copy of a slice from a DataFrame.\n",
      "Try using .loc[row_indexer,col_indexer] = value instead\n",
      "\n",
      "See the caveats in the documentation: http://pandas.pydata.org/pandas-docs/stable/indexing.html#indexing-view-versus-copy\n",
      "  stock['Date'] = stock['Date'].astype('str')\n"
     ]
    },
    {
     "data": {
      "text/plain": [
       "{'prediction': 'Buy',\n",
       " 'positive': 0.43,\n",
       " 'negative': 0.02,\n",
       " 'Closing Prices': [478.15, 524.86, 537.92, 518.5, 513.95]}"
      ]
     },
     "execution_count": 60,
     "metadata": {},
     "output_type": "execute_result"
    }
   ],
   "source": [
    "get_Prediction('Tesla Motors Inc')"
   ]
  },
  {
   "cell_type": "code",
   "execution_count": null,
   "metadata": {},
   "outputs": [],
   "source": []
  }
 ],
 "metadata": {
  "kernelspec": {
   "display_name": "Python 3",
   "language": "python",
   "name": "python3"
  },
  "language_info": {
   "codemirror_mode": {
    "name": "ipython",
    "version": 3
   },
   "file_extension": ".py",
   "mimetype": "text/x-python",
   "name": "python",
   "nbconvert_exporter": "python",
   "pygments_lexer": "ipython3",
   "version": "3.7.3"
  }
 },
 "nbformat": 4,
 "nbformat_minor": 2
}
