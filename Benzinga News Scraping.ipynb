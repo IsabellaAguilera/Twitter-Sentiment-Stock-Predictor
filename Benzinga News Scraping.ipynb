{
 "cells": [
  {
   "cell_type": "markdown",
   "metadata": {},
   "source": [
    "## Benzinga News Scrape"
   ]
  },
  {
   "cell_type": "code",
   "execution_count": 1,
   "metadata": {},
   "outputs": [],
   "source": [
    "#Importing all the libraries required for scraping\n",
    "\n",
    "from splinter import Browser\n",
    "from bs4 import BeautifulSoup \n",
    "import requests\n",
    "import time\n",
    "import pandas as pd\n",
    "import pprint\n",
    "import webbrowser\n",
    "import urllib\n",
    "import re\n",
    "import pymongo\n"
   ]
  },
  {
   "cell_type": "code",
   "execution_count": 2,
   "metadata": {},
   "outputs": [],
   "source": [
    "# using the crome driver for scraping\n",
    "\n",
    "executable_path = {'executable_path': 'chromedriver.exe'}\n",
    "browser = Browser('chrome', **executable_path, headless=False)\n",
    "#browser = Browser()"
   ]
  },
  {
   "cell_type": "code",
   "execution_count": 3,
   "metadata": {
    "scrolled": true
   },
   "outputs": [
    {
     "name": "stdout",
     "output_type": "stream",
     "text": [
      "[<div class=\"stories\"></div>, <div class=\"stories\" data-ng-show=\"active == 'headlines'\" id=\"stories-headlines\">\n",
      "<ul>\n",
      "<li class=\"story\" data-id=\"15114738\">\n",
      "<a href=\"https://www.benzinga.com/wiim/20/01/15114738/tesla-shares-are-trading-higher-after-multiple-firms-raised-the-price-target-on-the-stock\">Tesla shares are trading higher after multiple firms raised the price target on the stock.</a> <span class=\"author\">Benzinga      Newsdesk</span><span class=\"date\">Mon, 13 Jan 2020 14:20:03 -0500</span>\n",
      "</li>\n",
      "<li class=\"story\" data-id=\"15114604\">\n",
      "<a href=\"https://www.benzinga.com/analyst-ratings/analyst-color/20/01/15114604/oppenheimer-in-earlier-price-target-raise-says-tesla-is-beginning-to-pose-an-existe\">Oppenheimer, In Earlier Price Target Raise, Says Tesla Is 'beginning to pose an existential threat to transportation companies that are unable or unwilling to innovate at a faster pace.'</a> <span class=\"author\">Benzinga  Newsdesk</span><span class=\"date\">Mon, 13 Jan 2020 13:56:01 -0500</span>\n",
      "</li>\n",
      "<li class=\"story\" data-id=\"15114328\">\n",
      "<a href=\"https://www.benzinga.com/government/20/01/15114328/tesla-gets-new-street-high-price-target-stock-breaks-500\">Tesla Gets New Street-High Price Target, Stock Breaks $500</a> <span class=\"author\">Dave Royse</span><span class=\"date\">Mon, 13 Jan 2020 13:24:15 -0500</span>\n",
      "</li>\n",
      "<li class=\"story\" data-id=\"15113857\">\n",
      "<a href=\"https://www.benzinga.com/trading-ideas/20/01/15113857/tesla-numbers-will-go-up-because-of-china-subsidy-extension-analysts-need-to-raise-numbers-tsla-cnb\">'Tesla numbers will go up because of China subsidy extension. Analysts need to raise numbers.. $TSLA' -CNBC's Jim Cramer</a> <span class=\"author\">Benzinga  Newsdesk</span><span class=\"date\">Mon, 13 Jan 2020 12:03:59 -0500</span>\n",
      "</li>\n",
      "<li class=\"story\" data-id=\"15112421\">\n",
      "<a href=\"https://www.benzinga.com/tech/20/01/15112421/elon-musk-teslas-full-self-driving-feature-complete-is-coming-soon-electrek\">'Elon Musk: Tesla's Full Self-Driving 'feature-complete' is coming 'soon'' -Electrek</a> <span class=\"author\">Benzinga  Newsdesk</span><span class=\"date\">Mon, 13 Jan 2020 09:09:56 -0500</span>\n",
      "</li>\n",
      "<li class=\"story\" data-id=\"15111584\">\n",
      "<a href=\"https://www.benzinga.com/analyst-ratings/price-target/20/01/15111584/10-biggest-price-target-changes-for-monday\">10 Biggest Price Target Changes For Monday</a> <span class=\"author\">Lisa Levin</span><span class=\"date\">Mon, 13 Jan 2020 08:12:22 -0500</span>\n",
      "</li>\n",
      "<li class=\"story\" data-id=\"15110913\">\n",
      "<a href=\"https://www.benzinga.com/news/20/01/15110913/oppenheimer-maintains-outperform-on-tesla-raises-price-target-to-612\">Oppenheimer Maintains Outperform on Tesla, Raises Price Target to $612</a> <span class=\"author\">Benzinga_Newsdesk</span><span class=\"date\">Mon, 13 Jan 2020 07:29:17 -0500</span>\n",
      "</li>\n",
      "<li class=\"story\" data-id=\"15110900\">\n",
      "<a href=\"https://www.benzinga.com/news/20/01/15110900/hearing-oppenheimer-raised-its-price-target-on-tesla-from-385-to-612\">Hearing Oppenheimer Raised its Price Target on Tesla from $385 to $612</a> <span class=\"author\">Benzinga      Newsdesk</span><span class=\"date\">Mon, 13 Jan 2020 07:26:46 -0500</span>\n",
      "</li>\n",
      "<li class=\"story\" data-id=\"15109809\">\n",
      "<a href=\"https://www.benzinga.com/news/20/01/15109809/tesla-will-soon-talk-to-people-musk-hints-new-feature\">Tesla Will Soon 'Talk To People,' Musk Hints New Feature</a> <span class=\"author\">Neer Varshney</span><span class=\"date\">Sun, 12 Jan 2020 23:41:12 -0500</span>\n",
      "</li>\n",
      "<li class=\"story\" data-id=\"15109312\">\n",
      "<a href=\"https://www.benzinga.com/trading-ideas/20/01/15109312/bulls-and-bears-of-the-week-apple-citigroup-southwest-walgreens-and-more\">Bulls And Bears Of The Week: Apple, Citigroup, Southwest, Walgreens And More</a> <span class=\"author\">Nelson Hem</span><span class=\"date\">Sun, 12 Jan 2020 15:35:13 -0500</span>\n",
      "</li>\n",
      "<!-- ngRepeat: story in stories.headlines track by $index -->\n",
      "</ul>\n",
      "<a class=\"show-more\" data-ng-click=\"loadNews()\" href=\"#\">\n",
      "<span class=\"\" data-ng-show=\"!loading &amp;&amp; !hasNoMore.headlines\">Show more</span>\n",
      "<span class=\"ng-hide\" data-ng-show=\"loading\">Loading articles...</span>\n",
      "</a>\n",
      "</div>, <div class=\"stories ng-hide\" data-ng-show=\"active == 'press'\" id=\"stories-press\">\n",
      "<ul>\n",
      "<li class=\"story\" data-id=\"15112613\">\n",
      "<a href=\"https://www.benzinga.com/node/15112613\">Thinking about trading options or stock in Boeing, Mercadolibre, Monster Beverage, Roku, or Tesla?</a> <span class=\"author\">PRNewswire</span><span class=\"date\">13 hours ago</span>\n",
      "</li>\n",
      "<li class=\"story\" data-id=\"15098550\">\n",
      "<a href=\"https://www.benzinga.com/node/15098550\">Thinking about trading options or stock in Electronic Arts, Tesla, UnitedHealth Group, Vertex Pharmaceuticals, or Workday?</a> <span class=\"author\">PRNewswire</span><span class=\"date\">4 days ago</span>\n",
      "</li>\n",
      "<li class=\"story\" data-id=\"15084682\">\n",
      "<a href=\"https://www.benzinga.com/node/15084682\">Thinking about buying stock in Advanced Micro Devices, GoPro, Oncolytics Biotech, Rite Aid Corp, or Tesla?</a> <span class=\"author\">PRNewswire</span><span class=\"date\">6 days ago</span>\n",
      "</li>\n",
      "<li class=\"story\" data-id=\"15066422\">\n",
      "<a href=\"https://www.benzinga.com/node/15066422\">Tesla Q4 2019 Vehicle Production &amp; Deliveries</a> <span class=\"author\">Globe Newswire</span><span class=\"date\">Jan 03, 2020</span>\n",
      "</li>\n",
      "<li class=\"story\" data-id=\"15041749\">\n",
      "<a href=\"https://www.benzinga.com/node/15041749\">Thinking about trading options or stock in CVS, Mcdonald's, Roku, Shopify, or Tesla?</a> <span class=\"author\">PRNewswire</span><span class=\"date\">Dec 26, 2019</span>\n",
      "</li>\n",
      "<li class=\"story\" data-id=\"14987712\">\n",
      "<a href=\"https://www.benzinga.com/node/14987712\">Thinking about trading options or stock in Beyond Meat, Coca-Cola, Square, Tesla, or Twitter?</a> <span class=\"author\">PRNewswire</span><span class=\"date\">Dec 13, 2019</span>\n",
      "</li>\n",
      "<li class=\"story\" data-id=\"14920827\">\n",
      "<a href=\"https://www.benzinga.com/node/14920827\">Thinking about trading options or stock in Amazon.com, Anthem, Burlington Stores, Netflix, or Tesla?</a> <span class=\"author\">PRNewswire</span><span class=\"date\">Dec 03, 2019</span>\n",
      "</li>\n",
      "<li class=\"story\" data-id=\"14876058\">\n",
      "<a href=\"https://www.benzinga.com/node/14876058\">Thinking about trading options or stock in Intel, Microsoft, Roku, Tiffany, or Tesla?</a> <span class=\"author\">PRNewswire</span><span class=\"date\">Nov 25, 2019</span>\n",
      "</li>\n",
      "<li class=\"story\" data-id=\"14808892\">\n",
      "<a href=\"https://www.benzinga.com/node/14808892\">Thinking about trading options or stock in Apple, Alibaba, Walt Disney Co, Facebook, or Tesla?</a> <span class=\"author\">PRNewswire</span><span class=\"date\">Nov 14, 2019</span>\n",
      "</li>\n",
      "<li class=\"story\" data-id=\"14808024\">\n",
      "<a href=\"https://www.benzinga.com/node/14808024\">Lithium Stocks Likely to Charge Higher on Chile's Atacama Disruption</a> <span class=\"author\">PRNewswire</span><span class=\"date\">Nov 14, 2019</span>\n",
      "</li>\n",
      "<!-- ngRepeat: story in stories.press track by $index -->\n",
      "</ul>\n",
      "<a class=\"show-more\" data-ng-click=\"loadNews()\" href=\"#\">\n",
      "<span class=\"\" data-ng-show=\"!loading &amp;&amp; !hasNoMore.press\">Show more</span>\n",
      "<span class=\"ng-hide\" data-ng-show=\"loading\">Loading articles...</span>\n",
      "</a>\n",
      "</div>, <div class=\"stories\" data-ng-show=\"active == 'partner'\" id=\"stories-partner\">\n",
      "<ul>\n",
      "<li class=\"story\" data-id=\"15115970\">\n",
      "<a href=\"http://www.investors.com/market-trend/stock-market-today/dow-jones-eyes-29000-as-china-news-fuels-sp500-to-record-high/?src=A00237A&amp;ven=BenzingaCP&amp;src=AURLAAM\">Dow Jones Eyes 29,000 As China News Propels S&amp;P 500, Nasdaq To Record High</a> <span class=\"author\">Investor's Business Daily</span><span class=\"date\">6 hours ago</span>\n",
      "</li>\n",
      "<li class=\"story\" data-id=\"15115162\">\n",
      "<a href=\"http://www.investors.com/market-trend/stock-market-today/stock-market-china-trade-new-highs-tech-stocks/?src=A00237A&amp;ven=BenzingaCP&amp;src=AURLAAM\">Stock Market Rides China Trade Wave To New Highs; These Big Name Tech Stocks Shoot Higher</a> <span class=\"author\">Investor's Business Daily</span><span class=\"date\">7 hours ago</span>\n",
      "</li>\n",
      "<li class=\"story\" data-id=\"15114800\">\n",
      "<a href=\"http://www.investors.com/market-trend/stock-market-today/stock-market-strengthens-on-china-news-netflix-leads-faang-rally/?src=A00237A&amp;ven=BenzingaCP&amp;src=AURLAAM\">Stock Market Strengthens On China News; Top IPO Stock On Cusp Of Breakout</a> <span class=\"author\">Investor's Business Daily</span><span class=\"date\">8 hours ago</span>\n",
      "</li>\n",
      "<li class=\"story\" data-id=\"15113401\">\n",
      "<a href=\"http://www.investors.com/market-trend/stock-market-today/dow-jones-industrial-average-higher-earnings-season-tesla-stock/?src=A00237A&amp;ven=BenzingaCP&amp;src=AURLAAM\">Stock Market Higher Ahead Of Earnings Season; Apple, Microsoft, Spotify, Tesla Key Movers</a> <span class=\"author\">Investor's Business Daily</span><span class=\"date\">12 hours ago</span>\n",
      "</li>\n",
      "<li class=\"story\" data-id=\"15114759\">\n",
      "<a href=\"https://talkmarkets.com/content/charts-that-matter-monday-jan-13?post=246928\">Charts That Matter- Monday, Jan. 13</a> <span class=\"author\">TalkMarkets</span><span class=\"date\">13 hours ago</span>\n",
      "</li>\n",
      "<li class=\"story\" data-id=\"15111968\">\n",
      "<a href=\"http://www.investors.com/etfs-and-funds/sectors/sp500-stocks-better-tesla-beat-elon-musk-dust/?src=A00237A&amp;ven=BenzingaCP&amp;src=AURLAAM\">These 3 Stocks Leave Tesla In The Dust</a> <span class=\"author\">Investor's Business Daily</span><span class=\"date\">14 hours ago</span>\n",
      "</li>\n",
      "<li class=\"story\" data-id=\"15111964\">\n",
      "<a href=\"http://www.investors.com/market-trend/stock-market-today/dow-jones-today-sets-sights-on-29000-ahead-of-china-trade-deal-big-bank-reports-lululemon-up-on-guidance/?src=A00237A&amp;ven=BenzingaCP&amp;src=AURLAAM\">Dow Jones Today Sets Sights On 29,000 Ahead Of China Trade Deal, Big Bank Reports; Lululemon Up On Guidance</a> <span class=\"author\">Investor's Business Daily</span><span class=\"date\">14 hours ago</span>\n",
      "</li>\n",
      "<li class=\"story\" data-id=\"15112607\">\n",
      "<a href=\"http://www.zacks.com/stock/news/715376/tesla-other-automotive-stocks-to-zoom-in-2020?cid=CS-BENZ-FT-analyst_blog|investment_ideas-715376\">Tesla &amp; Other Automotive Stocks to Zoom in 2020</a> <span class=\"author\">Zacks</span><span class=\"date\">14 hours ago</span>\n",
      "</li>\n",
      "<li class=\"story\" data-id=\"15112061\">\n",
      "<a href=\"http://www.zacks.com/stock/news/715368/general-motors-gm-hummer-name-to-run-again-as-ev-truck?cid=CS-BENZ-FT-analyst_blog|company_news_-_corporate_actions-715368\">General Motors' (GM) Hummer Name to Run Again as EV Truck</a> <span class=\"author\">Zacks</span><span class=\"date\">14 hours ago</span>\n",
      "</li>\n",
      "<li class=\"story\" data-id=\"15114221\">\n",
      "<a href=\"https://talkmarkets.com/content/most-active-equity-options-for-midday-monday-jan-13?post=246920\">Most Active Equity Options For Midday - Monday, Jan. 13</a> <span class=\"author\">TalkMarkets</span><span class=\"date\">15 hours ago</span>\n",
      "</li>\n",
      "<!-- ngRepeat: story in stories.partner track by $index -->\n",
      "</ul>\n",
      "<a class=\"show-more\" data-ng-click=\"loadNews()\" href=\"#\">\n",
      "<span class=\"\" data-ng-show=\"!loading &amp;&amp; !hasNoMore.partner\">Show more</span>\n",
      "<span class=\"ng-hide\" data-ng-show=\"loading\">Loading articles...</span>\n",
      "</a>\n",
      "</div>]\n"
     ]
    },
    {
     "data": {
      "text/html": [
       "<div>\n",
       "<style scoped>\n",
       "    .dataframe tbody tr th:only-of-type {\n",
       "        vertical-align: middle;\n",
       "    }\n",
       "\n",
       "    .dataframe tbody tr th {\n",
       "        vertical-align: top;\n",
       "    }\n",
       "\n",
       "    .dataframe thead th {\n",
       "        text-align: right;\n",
       "    }\n",
       "</style>\n",
       "<table border=\"1\" class=\"dataframe\">\n",
       "  <thead>\n",
       "    <tr style=\"text-align: right;\">\n",
       "      <th></th>\n",
       "      <th>News</th>\n",
       "      <th>news_url</th>\n",
       "    </tr>\n",
       "  </thead>\n",
       "  <tbody>\n",
       "    <tr>\n",
       "      <td>0</td>\n",
       "      <td>Tesla shares are trading higher after multiple...</td>\n",
       "      <td>https://www.benzinga.com/wiim/20/01/15114738/t...</td>\n",
       "    </tr>\n",
       "    <tr>\n",
       "      <td>1</td>\n",
       "      <td>Thinking about trading options or stock in Boe...</td>\n",
       "      <td>https://www.benzinga.com/node/15112613</td>\n",
       "    </tr>\n",
       "    <tr>\n",
       "      <td>2</td>\n",
       "      <td>Dow Jones Eyes 29,000 As China News Propels S&amp;...</td>\n",
       "      <td>http://www.investors.com/market-trend/stock-ma...</td>\n",
       "    </tr>\n",
       "  </tbody>\n",
       "</table>\n",
       "</div>"
      ],
      "text/plain": [
       "                                                News  \\\n",
       "0  Tesla shares are trading higher after multiple...   \n",
       "1  Thinking about trading options or stock in Boe...   \n",
       "2  Dow Jones Eyes 29,000 As China News Propels S&...   \n",
       "\n",
       "                                            news_url  \n",
       "0  https://www.benzinga.com/wiim/20/01/15114738/t...  \n",
       "1             https://www.benzinga.com/node/15112613  \n",
       "2  http://www.investors.com/market-trend/stock-ma...  "
      ]
     },
     "execution_count": 3,
     "metadata": {},
     "output_type": "execute_result"
    }
   ],
   "source": [
    "#Please enter the ticker you want to scrape the news from\n",
    "Ticker = \"tsla\"\n",
    "\n",
    "\n",
    "# Url for main page\n",
    "url = 'https://www.benzinga.com/stock/'+Ticker+'/'\n",
    "browser.visit(url)\n",
    "\n",
    "# updating the page by clicking on search button\n",
    "#browser.find_by_name('btnG').first.click()\n",
    "\n",
    "# parser\n",
    "html = browser.html\n",
    "soup = BeautifulSoup(html, 'html.parser')\n",
    "time.sleep(5)\n",
    "\n",
    "# storing all the data from the main class\n",
    "Data = soup.find_all('div',class_='stories')\n",
    "\n",
    "print((Data))\n",
    "\n",
    "news_url = []\n",
    "news = []\n",
    "headline = []\n",
    "# search variables Name and reviews within main class using for loop\n",
    "\n",
    "for tr in Data:\n",
    "  if tr.find('a'):\n",
    "    #headline.append(tr.find('p'))\n",
    "    news_url.append(tr.find('a')['href'])\n",
    "    news.append(tr.find('a').text)\n",
    "df = pd.DataFrame({\"News\":news,\"news_url\":news_url})\n",
    "df.head()"
   ]
  },
  {
   "cell_type": "code",
   "execution_count": null,
   "metadata": {},
   "outputs": [],
   "source": []
  },
  {
   "cell_type": "code",
   "execution_count": null,
   "metadata": {},
   "outputs": [],
   "source": []
  },
  {
   "cell_type": "markdown",
   "metadata": {},
   "source": [
    "## List only Nasdaq and NYSE listed companies"
   ]
  },
  {
   "cell_type": "code",
   "execution_count": 4,
   "metadata": {},
   "outputs": [],
   "source": [
    "\n",
    "PC_News = df"
   ]
  },
  {
   "cell_type": "code",
   "execution_count": null,
   "metadata": {
    "scrolled": true
   },
   "outputs": [],
   "source": []
  },
  {
   "cell_type": "code",
   "execution_count": 5,
   "metadata": {},
   "outputs": [
    {
     "name": "stdout",
     "output_type": "stream",
     "text": [
      "                                                News  \\\n",
      "0  Tesla shares are trading higher after multiple...   \n",
      "1  Thinking about trading options or stock in Boe...   \n",
      "2  Dow Jones Eyes 29,000 As China News Propels S&...   \n",
      "\n",
      "                                            news_url  \n",
      "0  https://www.benzinga.com/wiim/20/01/15114738/t...  \n",
      "1             https://www.benzinga.com/node/15112613  \n",
      "2  http://www.investors.com/market-trend/stock-ma...  \n"
     ]
    }
   ],
   "source": [
    "print(PC_News.head())\n",
    "PC_News.to_csv('OutputNews.csv')"
   ]
  },
  {
   "cell_type": "markdown",
   "metadata": {},
   "source": []
  },
  {
   "cell_type": "code",
   "execution_count": 6,
   "metadata": {},
   "outputs": [
    {
     "name": "stdout",
     "output_type": "stream",
     "text": [
      "Tesla shares are trading higher after multiple firms raised the price target on the stock.\n",
      " Sentiment Score: {'neg': 0.0, 'neu': 0.864, 'pos': 0.136, 'compound': 0.296}\n",
      "Thinking about trading options or stock in Boeing, Mercadolibre, Monster Beverage, Roku, or Tesla?\n",
      " Sentiment Score: {'neg': 0.0, 'neu': 1.0, 'pos': 0.0, 'compound': 0.0}\n",
      "Dow Jones Eyes 29,000 As China News Propels S&P 500, Nasdaq To Record High\n",
      " Sentiment Score: {'neg': 0.0, 'neu': 1.0, 'pos': 0.0, 'compound': 0.0}\n"
     ]
    }
   ],
   "source": [
    "import nltk\n",
    "from nltk.sentiment.vader import SentimentIntensityAnalyzer\n",
    "sia = SentimentIntensityAnalyzer()\n",
    "for i, j in PC_News.iterrows(): \n",
    "    Passage = PC_News.News[i]\n",
    "    print(Passage)\n",
    "    print(\" Sentiment Score:\", sia.polarity_scores(Passage))"
   ]
  },
  {
   "cell_type": "markdown",
   "metadata": {},
   "source": [
    "## Merged all three dataframe into one DF"
   ]
  },
  {
   "cell_type": "code",
   "execution_count": null,
   "metadata": {},
   "outputs": [],
   "source": []
  },
  {
   "cell_type": "code",
   "execution_count": null,
   "metadata": {},
   "outputs": [],
   "source": []
  },
  {
   "cell_type": "code",
   "execution_count": null,
   "metadata": {},
   "outputs": [],
   "source": []
  },
  {
   "cell_type": "code",
   "execution_count": null,
   "metadata": {},
   "outputs": [],
   "source": [
    "    "
   ]
  },
  {
   "cell_type": "code",
   "execution_count": null,
   "metadata": {},
   "outputs": [],
   "source": []
  },
  {
   "cell_type": "code",
   "execution_count": null,
   "metadata": {},
   "outputs": [],
   "source": []
  },
  {
   "cell_type": "code",
   "execution_count": null,
   "metadata": {},
   "outputs": [],
   "source": []
  }
 ],
 "metadata": {
  "kernelspec": {
   "display_name": "Python 3",
   "language": "python",
   "name": "python3"
  },
  "language_info": {
   "codemirror_mode": {
    "name": "ipython",
    "version": 3
   },
   "file_extension": ".py",
   "mimetype": "text/x-python",
   "name": "python",
   "nbconvert_exporter": "python",
   "pygments_lexer": "ipython3",
   "version": "3.7.4"
  }
 },
 "nbformat": 4,
 "nbformat_minor": 2
}
