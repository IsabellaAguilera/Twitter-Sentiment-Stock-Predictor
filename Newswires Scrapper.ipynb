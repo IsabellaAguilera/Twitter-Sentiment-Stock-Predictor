{
 "cells": [
  {
   "cell_type": "markdown",
   "metadata": {},
   "source": [
    "## PRNews Wire Scrape"
   ]
  },
  {
   "cell_type": "code",
   "execution_count": 1,
   "metadata": {},
   "outputs": [],
   "source": [
    "#Importing all the libraries required for scraping\n",
    "\n",
    "from splinter import Browser\n",
    "from bs4 import BeautifulSoup \n",
    "import requests\n",
    "import time\n",
    "import pandas as pd\n",
    "import pprint\n",
    "import webbrowser\n",
    "import urllib\n",
    "import re\n",
    "import pymongo\n"
   ]
  },
  {
   "cell_type": "code",
   "execution_count": 2,
   "metadata": {},
   "outputs": [],
   "source": [
    "# using the crome driver for scraping\n",
    "\n",
    "executable_path = {'executable_path': 'chromedriver.exe'}\n",
    "browser = Browser('chrome', **executable_path, headless=False)\n",
    "#browser = Browser()"
   ]
  },
  {
   "cell_type": "code",
   "execution_count": 3,
   "metadata": {
    "scrolled": true
   },
   "outputs": [
    {
     "name": "stdout",
     "output_type": "stream",
     "text": [
      "66\n"
     ]
    },
    {
     "data": {
      "text/html": [
       "<div>\n",
       "<style scoped>\n",
       "    .dataframe tbody tr th:only-of-type {\n",
       "        vertical-align: middle;\n",
       "    }\n",
       "\n",
       "    .dataframe tbody tr th {\n",
       "        vertical-align: top;\n",
       "    }\n",
       "\n",
       "    .dataframe thead th {\n",
       "        text-align: right;\n",
       "    }\n",
       "</style>\n",
       "<table border=\"1\" class=\"dataframe\">\n",
       "  <thead>\n",
       "    <tr style=\"text-align: right;\">\n",
       "      <th></th>\n",
       "      <th>Headline</th>\n",
       "      <th>News</th>\n",
       "      <th>news_url</th>\n",
       "    </tr>\n",
       "  </thead>\n",
       "  <tbody>\n",
       "    <tr>\n",
       "      <td>0</td>\n",
       "      <td>The CALIFORNIA ASSOCIATION OF REALTORS® (C.A.R...</td>\n",
       "      <td>California REALTORS® encouraged by Gov. Newsom...</td>\n",
       "      <td>/news-releases/california-realtors-encouraged-...</td>\n",
       "    </tr>\n",
       "    <tr>\n",
       "      <td>1</td>\n",
       "      <td>Préscolaire is thrilled to announce the openin...</td>\n",
       "      <td>New Ivy League Preschool Set to Open</td>\n",
       "      <td>/news-releases/new-ivy-league-preschool-set-to...</td>\n",
       "    </tr>\n",
       "    <tr>\n",
       "      <td>2</td>\n",
       "      <td>Na última quinta-feira(2), o presidente americ...</td>\n",
       "      <td>Pablo Borges, CEO da E-Price Capital, comenta ...</td>\n",
       "      <td>/news-releases/pablo-borges-ceo-da-e-price-cap...</td>\n",
       "    </tr>\n",
       "    <tr>\n",
       "      <td>3</td>\n",
       "      <td>Companion Medical, Inc., an innovative diabete...</td>\n",
       "      <td>Companion Medical Secures $27.5 Million Debt F...</td>\n",
       "      <td>/news-releases/companion-medical-secures-27-5-...</td>\n",
       "    </tr>\n",
       "    <tr>\n",
       "      <td>4</td>\n",
       "      <td>RM LAW, P.C. announces an investigation on beh...</td>\n",
       "      <td>RM LAW Announces Investigation of Surgery Part...</td>\n",
       "      <td>/news-releases/rm-law-announces-investigation-...</td>\n",
       "    </tr>\n",
       "  </tbody>\n",
       "</table>\n",
       "</div>"
      ],
      "text/plain": [
       "                                            Headline  \\\n",
       "0  The CALIFORNIA ASSOCIATION OF REALTORS® (C.A.R...   \n",
       "1  Préscolaire is thrilled to announce the openin...   \n",
       "2  Na última quinta-feira(2), o presidente americ...   \n",
       "3  Companion Medical, Inc., an innovative diabete...   \n",
       "4  RM LAW, P.C. announces an investigation on beh...   \n",
       "\n",
       "                                                News  \\\n",
       "0  California REALTORS® encouraged by Gov. Newsom...   \n",
       "1               New Ivy League Preschool Set to Open   \n",
       "2  Pablo Borges, CEO da E-Price Capital, comenta ...   \n",
       "3  Companion Medical Secures $27.5 Million Debt F...   \n",
       "4  RM LAW Announces Investigation of Surgery Part...   \n",
       "\n",
       "                                            news_url  \n",
       "0  /news-releases/california-realtors-encouraged-...  \n",
       "1  /news-releases/new-ivy-league-preschool-set-to...  \n",
       "2  /news-releases/pablo-borges-ceo-da-e-price-cap...  \n",
       "3  /news-releases/companion-medical-secures-27-5-...  \n",
       "4  /news-releases/rm-law-announces-investigation-...  "
      ]
     },
     "execution_count": 3,
     "metadata": {},
     "output_type": "execute_result"
    }
   ],
   "source": [
    "# Url for main page\n",
    "url = 'https://www.prnewswire.com/news-releases/financial-services-latest-news/financial-services-latest-news-list/?page=1&pagesize=100'\n",
    "browser.visit(url)\n",
    "\n",
    "# updating the page by clicking on search button\n",
    "#browser.find_by_name('btnG').first.click()\n",
    "\n",
    "# parser\n",
    "html = browser.html\n",
    "soup = BeautifulSoup(html, 'html.parser')\n",
    "time.sleep(5)\n",
    "\n",
    "# storing all the data from the main class\n",
    "Data = soup.find_all('div',class_='col-sm-8 col-lg-9 pull-left card')\n",
    "\n",
    "print(len(Data))\n",
    "\n",
    "news_url = []\n",
    "news = []\n",
    "headline = []\n",
    "# search variables Name and reviews within main class using for loop\n",
    "\n",
    "for tr in Data:\n",
    "  if tr.find('a'):\n",
    "    headline.append(tr.find('p').text)\n",
    "    news_url.append(tr.find('a')['href'])\n",
    "    news.append(tr.find('a').text)\n",
    "df1 = pd.DataFrame({\"Headline\": headline, \"News\":news,\"news_url\":news_url})\n",
    "df1.head()"
   ]
  },
  {
   "cell_type": "code",
   "execution_count": 4,
   "metadata": {},
   "outputs": [
    {
     "name": "stdout",
     "output_type": "stream",
     "text": [
      "34\n",
      "                                            Headline  \\\n",
      "0  Current tension between the United States and ...   \n",
      "1  The China Fund, Inc. (NYSE: CHN) (the \"Fund\") ...   \n",
      "2  Investment Community Teleconference Set for Fe...   \n",
      "3  Nelnet, Inc. (NYSE: NNI) today announced it wi...   \n",
      "4  Ledger Holdings Inc., parent company to Ledger...   \n",
      "\n",
      "                                                News  \\\n",
      "0  Travel Insurance Amidst Political Uncertainty,...   \n",
      "1  The China Fund, Inc. Announces Date of Annual ...   \n",
      "2  Hydro One Fourth Quarter 2019 Results Release ...   \n",
      "3  Nelnet to Announce Fourth Quarter and Year-End...   \n",
      "4  LedgerX Co-Founder Returns to Lead Company's N...   \n",
      "\n",
      "                                            news_url  \n",
      "0  /news-releases/travel-insurance-amidst-politic...  \n",
      "1  /news-releases/the-china-fund-inc-announces-da...  \n",
      "2  /news-releases/hydro-one-fourth-quarter-2019-r...  \n",
      "3  /news-releases/nelnet-to-announce-fourth-quart...  \n",
      "4  /news-releases/ledgerx-co-founder-returns-to-l...  \n"
     ]
    }
   ],
   "source": [
    "Data1 = soup.find_all('div',class_='col-sm-12 card')\n",
    "\n",
    "print(len(Data1))\n",
    "\n",
    "news_url = []\n",
    "news = []\n",
    "headline = []\n",
    "# search variables Name and reviews within main class using for loop\n",
    "\n",
    "for tr in Data1:\n",
    "  if tr.find('a'):\n",
    "    headline.append(tr.find('p').text)\n",
    "    news_url.append(tr.find('a')['href'])\n",
    "    news.append(tr.find('a').text)\n",
    "df2 = pd.DataFrame({\"Headline\": headline, \"News\":news,\"news_url\":news_url})\n",
    "print(df2.head())\n",
    "df = df1.append(df2, ignore_index=True)\n"
   ]
  },
  {
   "cell_type": "code",
   "execution_count": 5,
   "metadata": {},
   "outputs": [
    {
     "name": "stdout",
     "output_type": "stream",
     "text": [
      "                                            Headline  \\\n",
      "0  The CALIFORNIA ASSOCIATION OF REALTORS® (C.A.R...   \n",
      "1  Préscolaire is thrilled to announce the openin...   \n",
      "2  Na última quinta-feira(2), o presidente americ...   \n",
      "3  Companion Medical, Inc., an innovative diabete...   \n",
      "4  RM LAW, P.C. announces an investigation on beh...   \n",
      "\n",
      "                                                News  \\\n",
      "0  California REALTORS® encouraged by Gov. Newsom...   \n",
      "1               New Ivy League Preschool Set to Open   \n",
      "2  Pablo Borges, CEO da E-Price Capital, comenta ...   \n",
      "3  Companion Medical Secures $27.5 Million Debt F...   \n",
      "4  RM LAW Announces Investigation of Surgery Part...   \n",
      "\n",
      "                                            news_url  \n",
      "0  /news-releases/california-realtors-encouraged-...  \n",
      "1  /news-releases/new-ivy-league-preschool-set-to...  \n",
      "2  /news-releases/pablo-borges-ceo-da-e-price-cap...  \n",
      "3  /news-releases/companion-medical-secures-27-5-...  \n",
      "4  /news-releases/rm-law-announces-investigation-...  \n"
     ]
    }
   ],
   "source": [
    "print(df.head())\n",
    "\n"
   ]
  },
  {
   "cell_type": "markdown",
   "metadata": {},
   "source": [
    "## List only Nasdaq and NYSE listed companies"
   ]
  },
  {
   "cell_type": "code",
   "execution_count": 6,
   "metadata": {},
   "outputs": [],
   "source": [
    "NYSE_df = df[df.Headline.str.contains('NYSE',case=False)] \n",
    "Nasdaq_df = df[df.Headline.str.contains('NASDAQ',case=False)] \n",
    "PC_News = NYSE_df.append(Nasdaq_df, ignore_index=True)\n"
   ]
  },
  {
   "cell_type": "code",
   "execution_count": 7,
   "metadata": {
    "scrolled": true
   },
   "outputs": [
    {
     "name": "stdout",
     "output_type": "stream",
     "text": [
      "The India Fund, Inc. (NYSE: IFN) (the \"Fund\"), a closed-end equity fund, today announced that it paid on January 10, 2020, a distribution of US$0.57...\n",
      "IFN\n",
      "Aberdeen Global Premier Properties Fund (NYSE: AWP) (the \"Fund\"), a closed-end fund, today announced that it paid on January 10, 2020, a distribution ...\n",
      "AWP\n",
      "Aon plc (NYSE:AON), the leading global professional services firm providing a broad range of risk, retirement and health solutions, announced today...\n",
      "AON,\n",
      "Synchrony (NYSE: SYF), a premier consumer financial services company, participated in the fifth annual \"Doubles Dive\" by plunging into the chilly...\n",
      "SYF,\n",
      "Aberdeen Global Premier Properties Fund (NYSE: AWP) (the \"Fund\"), a closed-end fund, today announced that it will pay on January 28, 2020, a...\n",
      "AWP\n",
      "Aberdeen Total Dynamic Dividend Fund (NYSE: AOD) (the \"Fund\"), a closed-end fund, announced today that it will pay a distribution of US $0.0575 per...\n",
      "AOD\n",
      "Aberdeen Global Dynamic Dividend Fund (NYSE: AGD) (the \"Fund\"), a closed-end fund, announced today that it will pay a distribution of US $0.065 per...\n",
      "AGD\n",
      "Aberdeen Income Credit Strategies Fund (NYSE: ACP) (the \"Fund\"), a closed-end fund, announced today that it will pay a distribution of US $0.12 per...\n",
      "ACP\n",
      "Aberdeen Asia-Pacific Income Fund, Inc. (NYSE American: FAX) (the \"Fund\"), a closed-end fund, today announced that it paid on January 10, 2020, a...\n",
      "FAX\n",
      "Aberdeen Asia-Pacific Income Fund, Inc. (NYSE American: FAX) (the \"Fund\"), a closed-end fund, today announced that it will pay on January 28, 2020, a ...\n",
      "FAX\n",
      "Aberdeen Australia Equity Fund, Inc. (NYSE American: IAF) (the \"Fund\"), a closed-end equity fund, today announced that it paid on January 10, 2020 a...\n",
      "IAF\n",
      "Aberdeen Global Income Fund, Inc. (NYSE American: FCO) (the \"Fund\"), a closed-end fund, today announced that it paid on January 10, 2020, a...\n",
      "FCO\n",
      "Aberdeen Global Income Fund, Inc. (NYSE American: FCO) (the \"Fund\"), a closed-end fund, today announced that it will pay on January 28, 2020, a...\n",
      "FCO\n",
      "Meritor, Inc. (NYSE: MTOR) will host a conference call and webcast to discuss the company's first-quarter results for fiscal year 2020 on Thursday,...\n",
      "MTOR\n",
      "Waste Connections, Inc. (TSX/NYSE: WCN) announced that it will report financial results for the fourth quarter of 2019 and outlook for the full year...\n",
      "WCN\n",
      "Following its common equity offering earlier this week, PNM Resources (NYSE: PNM) management has affirmed its 2019 consolidated earnings guidance of...\n",
      "PNM\n",
      "Briggs & Stratton Corporation (NYSE:BGG) will release its fiscal 2020 second quarter financial results before the market opens on Thursday, January...\n",
      "BGG\n",
      "Nielsen (NYSE: NLSN) Global Connect announced today that it has completed its acquisition of Precima®, an industry-leading, SaaS-based provider of...\n",
      "NLSN\n",
      "Blue Ridge Bankshares, Inc. (\"Blue Ridge\") (NYSEAM: BRBS) is pleased to welcome Jim McCarty to its team as Chief Administrative Officer. Blue Ridge...\n",
      "BRBS\n",
      "The China Fund, Inc. (NYSE: CHN) (the \"Fund\") announced today that the Fund's annual stockholder meeting (the \"Meeting\") will be held Thursday, March ...\n",
      "CHN\n",
      "Nelnet, Inc. (NYSE: NNI) today announced it will release earnings for the fourth quarter and year ended December 31, 2019, after the close of the New ...\n",
      "NNI\n",
      "National Retail Properties, Inc. (NYSE: NNN), a real estate investment trust, announced today that 86.8423% of the dividends paid to common...\n",
      "NNN,\n",
      "CALGARY, Jan. 10, 2020 /PRNewswire/ - Pembina Pipeline Corporation (\"Pembina\" or the \"Company\") (TSX: PPL; NYSE: PBA) is pleased to announce that it...\n",
      "PBA\n",
      "S&P Global (NYSE: SPGI) and RobecoSAM, an affiliate of Robeco, announced today that S&P Global has successfully completed its acquisition of the ESG...\n",
      "SPGI\n",
      "Eaton Vance Enhanced Equity Income Fund II (NYSE: EOS) today announced important information concerning its distribution declared in December 2019....\n",
      "EOS\n",
      "ARD Finance S.A. (\"ARD Finance\"), a holding company of Ardagh Group S.A. (NYSE: ARD), announced that it will today voluntarily file a Form 15F with...\n",
      "ARD,\n",
      "TORONTO, Jan. 10, 2020 /PRNewswire/ - Agnico Eagle Mines Limited (NYSE: AEM, TSX: AEM) (\"Agnico Eagle\" or the \"Company\") today announced that it will ...\n",
      "AEM,\n",
      "RM LAW, P.C. announces an investigation on behalf of Surgery Partners, Inc. (\"Surgery Partners\" or the \"Company\") (NASDAQ: SGRY) investors concerning ...\n",
      "SGRY\n",
      "Cathay General Bancorp (Nasdaq: CATY), the holding company for Cathay Bank, is scheduled to announce its fourth quarter and full year 2019 financial...\n",
      "CATY,\n",
      "Virtus Investment Partners, Inc. (NASDAQ: VRTS) today reported preliminary long-term and total assets under management (AUM) as of December 31, 2019...\n",
      "VRTS\n",
      "Ameris Bancorp (Nasdaq: ABCB) (the \"Company\") announced today that it intends to release its fourth quarter and full year 2019 financial results in a ...\n",
      "ABCB\n",
      "IDEXX Laboratories, Inc. (NASDAQ: IDXX), a global leader in veterinary diagnostics, veterinary practice software and water microbiology testing, has...\n",
      "IDXX,\n",
      "Seneca Biopharma, Inc., (NASDAQ: SNCA), a clinical-stage biopharmaceutical company developing novel treatments for diseases of unmet medical need,...\n",
      "SNCA,\n",
      "Golub Capital BDC, Inc., a business development company (Nasdaq: GBDC, www.golubcapitalbdc.com), announced today that it will report its financial...\n",
      "GBDC,\n",
      "Civista Bancshares, Inc. (NASDAQ: CIVB) (\"Civista\") announced today that it will issue its fourth quarter 2019 financial results prior to market open ...\n",
      "CIVB\n",
      "Syndax Pharmaceuticals, Inc. (\"Syndax,\" the \"Company\" or \"we\") (Nasdaq:SNDX), a clinical stage biopharmaceutical company developing an innovative...\n",
      "SNDX,\n",
      "TMSR Holding Company Limited (the \"Company\") (NASDAQ: TMSR), a holding company with its subsidiaries engaging in the sales of solid waste recycling...\n",
      "TMSR,\n",
      "Shareholder Rights Law Firm Johnson Fistel, LLP, is investigating potential claims against Portola Pharmaceuticals, Inc. (NASDAQ: PTLA) (\"Portola \"...\n",
      "PTLA\n",
      "China XD Plastics Company Limited (NASDAQ: CXDC) (\"China XD Plastics\" or the \"Company\"), one of China's leading specialty chemical companies engaged...\n",
      "CXDC\n"
     ]
    }
   ],
   "source": [
    "# Extract the ticker\n",
    "Ticker = [] \n",
    "for i, j in PC_News.iterrows(): \n",
    "\n",
    "    s = PC_News.Headline[i]\n",
    "    print(s)\n",
    "    q = 'NASDAQ'\n",
    "    res = s[s.find(q)+len(q):].split(':')[1]\n",
    "    res1 = res.split()[0]\n",
    "    \n",
    "    q = 'NYSE'\n",
    "    res = s[s.find(q)+len(q):].split(':')[1]\n",
    "    res1 = res.split()[0].replace(')', '')\n",
    "    Ticker.append(res1)\n",
    "    print(res1)\n",
    "PC_News[\"Ticker\"] = Ticker\n"
   ]
  },
  {
   "cell_type": "code",
   "execution_count": 8,
   "metadata": {},
   "outputs": [
    {
     "name": "stdout",
     "output_type": "stream",
     "text": [
      "                                            Headline  \\\n",
      "0  The India Fund, Inc. (NYSE: IFN) (the \"Fund\"),...   \n",
      "1  Aberdeen Global Premier Properties Fund (NYSE:...   \n",
      "2  Aon plc (NYSE:AON), the leading global profess...   \n",
      "3  Synchrony (NYSE: SYF), a premier consumer fina...   \n",
      "4  Aberdeen Global Premier Properties Fund (NYSE:...   \n",
      "\n",
      "                                                News  \\\n",
      "0  The India Fund, Inc. Announces Payment Of Quar...   \n",
      "1  Aberdeen Global Premier Properties Fund Announ...   \n",
      "2                    Aon Declares Quarterly Dividend   \n",
      "3  Synchrony Employees Take Polar Plunge for Charity   \n",
      "4  Aberdeen Global Premier Properties Fund Announ...   \n",
      "\n",
      "                                            news_url Ticker  \n",
      "0  /news-releases/the-india-fund-inc-announces-pa...    IFN  \n",
      "1  /news-releases/aberdeen-global-premier-propert...    AWP  \n",
      "2  /news-releases/aon-declares-quarterly-dividend...   AON,  \n",
      "3  /news-releases/synchrony-employees-take-polar-...   SYF,  \n",
      "4  /news-releases/aberdeen-global-premier-propert...    AWP  \n"
     ]
    }
   ],
   "source": [
    "print(PC_News.head())\n",
    "PC_News.to_csv('OutputNews.csv')"
   ]
  },
  {
   "cell_type": "markdown",
   "metadata": {},
   "source": []
  },
  {
   "cell_type": "code",
   "execution_count": 9,
   "metadata": {},
   "outputs": [
    {
     "name": "stdout",
     "output_type": "stream",
     "text": [
      "The India Fund, Inc. Announces Payment Of Quarterly Distribution\n",
      " Sentiment Score: {'neg': 0.0, 'neu': 1.0, 'pos': 0.0, 'compound': 0.0}\n",
      "Aberdeen Global Premier Properties Fund Announces Payment Of Monthly Distribution\n",
      " Sentiment Score: {'neg': 0.0, 'neu': 1.0, 'pos': 0.0, 'compound': 0.0}\n",
      "Aon Declares Quarterly Dividend\n",
      " Sentiment Score: {'neg': 0.0, 'neu': 1.0, 'pos': 0.0, 'compound': 0.0}\n",
      "Synchrony Employees Take Polar Plunge for Charity\n",
      " Sentiment Score: {'neg': 0.0, 'neu': 0.682, 'pos': 0.318, 'compound': 0.4215}\n",
      "Aberdeen Global Premier Properties Fund Announces Record Date And Payment Date For Monthly Distribution\n",
      " Sentiment Score: {'neg': 0.0, 'neu': 1.0, 'pos': 0.0, 'compound': 0.0}\n",
      "Aberdeen Total Dynamic Dividend Fund Announces Monthly Distribution\n",
      " Sentiment Score: {'neg': 0.0, 'neu': 0.729, 'pos': 0.271, 'compound': 0.3818}\n",
      "Aberdeen Global Dynamic Dividend Fund Announces Monthly Distribution\n",
      " Sentiment Score: {'neg': 0.0, 'neu': 0.729, 'pos': 0.271, 'compound': 0.3818}\n",
      "Aberdeen Income Credit Strategies Fund Announces Monthly Distribution\n",
      " Sentiment Score: {'neg': 0.0, 'neu': 0.729, 'pos': 0.271, 'compound': 0.3818}\n",
      "Aberdeen Asia-Pacific Income Fund, Inc. Announces Payment Of Monthly Distribution\n",
      " Sentiment Score: {'neg': 0.0, 'neu': 1.0, 'pos': 0.0, 'compound': 0.0}\n",
      "Aberdeen Asia-Pacific Income Fund, Inc. Announces Record Date And Payment Date For Monthly Distribution\n",
      " Sentiment Score: {'neg': 0.0, 'neu': 1.0, 'pos': 0.0, 'compound': 0.0}\n",
      "Aberdeen Australia Equity Fund, Inc. Announces Record Date And Payment Date For Quarterly Distribution\n",
      " Sentiment Score: {'neg': 0.0, 'neu': 1.0, 'pos': 0.0, 'compound': 0.0}\n",
      "Aberdeen Global Income Fund, Inc. Announces Payment Of Monthly Distribution\n",
      " Sentiment Score: {'neg': 0.0, 'neu': 1.0, 'pos': 0.0, 'compound': 0.0}\n",
      "Aberdeen Global Income Fund, Inc. Announces Record Date And Payment Date For Monthly Distribution\n",
      " Sentiment Score: {'neg': 0.0, 'neu': 1.0, 'pos': 0.0, 'compound': 0.0}\n",
      "Meritor Hosts Conference Call and Webcast to Present Fiscal Year 2020 First-Quarter Earnings Results\n",
      " Sentiment Score: {'neg': 0.0, 'neu': 1.0, 'pos': 0.0, 'compound': 0.0}\n",
      "Waste Connections Announces Dates For Fourth Quarter 2019 Earnings Release And 2020 Outlook\n",
      " Sentiment Score: {'neg': 0.189, 'neu': 0.811, 'pos': 0.0, 'compound': -0.4215}\n",
      "PNM Resources Affirms Ongoing Earnings Guidance\n",
      " Sentiment Score: {'neg': 0.0, 'neu': 1.0, 'pos': 0.0, 'compound': 0.0}\n",
      "Briggs & Stratton Corporation To Announce Fiscal 2020 Second Quarter Results\n",
      " Sentiment Score: {'neg': 0.0, 'neu': 1.0, 'pos': 0.0, 'compound': 0.0}\n",
      "Nielsen Acquires Merchandising and Analytics Solutions Leader Precima®\n",
      " Sentiment Score: {'neg': 0.0, 'neu': 0.805, 'pos': 0.195, 'compound': 0.1779}\n",
      "Accomplished Executive Joins Blue Ridge Bankshares, Inc. Team\n",
      " Sentiment Score: {'neg': 0.0, 'neu': 0.707, 'pos': 0.293, 'compound': 0.4404}\n",
      "The China Fund, Inc. Announces Date of Annual Meeting of Stockholders\n",
      " Sentiment Score: {'neg': 0.0, 'neu': 1.0, 'pos': 0.0, 'compound': 0.0}\n",
      "Nelnet to Announce Fourth Quarter and Year-End Results\n",
      " Sentiment Score: {'neg': 0.0, 'neu': 1.0, 'pos': 0.0, 'compound': 0.0}\n",
      "National Retail Properties, Inc. Announces 2019 Dividend Tax Status\n",
      " Sentiment Score: {'neg': 0.0, 'neu': 1.0, 'pos': 0.0, 'compound': 0.0}\n",
      "Pembina Pipeline Corporation Announces Closing of $1 Billion Public Note Offering\n",
      " Sentiment Score: {'neg': 0.0, 'neu': 1.0, 'pos': 0.0, 'compound': 0.0}\n",
      "S&P Global Finalizes Acquisition of the ESG Ratings Business from RobecoSAM\n",
      " Sentiment Score: {'neg': 0.0, 'neu': 1.0, 'pos': 0.0, 'compound': 0.0}\n",
      "Eaton Vance Enhanced Equity Income Fund II January 2020 Distribution\n",
      " Sentiment Score: {'neg': 0.0, 'neu': 1.0, 'pos': 0.0, 'compound': 0.0}\n",
      "ARD Finance Announces Intention to Terminate SEC Reporting Obligations\n",
      " Sentiment Score: {'neg': 0.0, 'neu': 1.0, 'pos': 0.0, 'compound': 0.0}\n",
      "Agnico Eagle Provides Notice of Release of Fourth Quarter and Full Year 2019 Results and Conference Call\n",
      " Sentiment Score: {'neg': 0.0, 'neu': 1.0, 'pos': 0.0, 'compound': 0.0}\n",
      "RM LAW Announces Investigation of Surgery Partners, Inc.\n",
      " Sentiment Score: {'neg': 0.0, 'neu': 1.0, 'pos': 0.0, 'compound': 0.0}\n",
      "Cathay General Bancorp to Announce Fourth Quarter and Full Year 2019 Financial Results\n",
      " Sentiment Score: {'neg': 0.0, 'neu': 1.0, 'pos': 0.0, 'compound': 0.0}\n",
      "Virtus Investment Partners Reports Preliminary December 31, 2019 Assets Under Management\n",
      " Sentiment Score: {'neg': 0.0, 'neu': 0.855, 'pos': 0.145, 'compound': 0.1779}\n",
      "Ameris Bancorp Announces Date Of Fourth Quarter 2019 Earnings Release And Conference Call\n",
      " Sentiment Score: {'neg': 0.0, 'neu': 1.0, 'pos': 0.0, 'compound': 0.0}\n",
      "IDEXX Laboratories to Release 2019 Fourth Quarter and Full-Year Financial Results\n",
      " Sentiment Score: {'neg': 0.0, 'neu': 1.0, 'pos': 0.0, 'compound': 0.0}\n",
      "Seneca Biopharma Announces Presentations at Both Sachs Associates 3rd Annual Neuroscience Innovation Forum & Biotech Showcase™ 2020\n",
      " Sentiment Score: {'neg': 0.0, 'neu': 0.852, 'pos': 0.148, 'compound': 0.3818}\n",
      "Golub Capital BDC, Inc. Schedules Release of Fiscal Year 2020 First Quarter Results\n",
      " Sentiment Score: {'neg': 0.0, 'neu': 1.0, 'pos': 0.0, 'compound': 0.0}\n",
      "Civista Bancshares, Inc. Announces Fourth Quarter Earnings Release Date\n",
      " Sentiment Score: {'neg': 0.0, 'neu': 1.0, 'pos': 0.0, 'compound': 0.0}\n",
      "Syndax Pharmaceuticals Highlights 2020 Clinical and Corporate Outlook\n",
      " Sentiment Score: {'neg': 0.0, 'neu': 1.0, 'pos': 0.0, 'compound': 0.0}\n",
      "TMSR Holding Regains Compliance With NASDAQ Bid Price Requirement\n",
      " Sentiment Score: {'neg': 0.0, 'neu': 1.0, 'pos': 0.0, 'compound': 0.0}\n",
      "(PTLA) Alert: Johnson Fistel Launches Investigation into Portola Pharmaceuticals; Investors Encouraged to Contact Firm\n",
      " Sentiment Score: {'neg': 0.0, 'neu': 0.719, 'pos': 0.281, 'compound': 0.5719}\n",
      "Specialty Chemical Company China XD Plastics Regains Compliance With NASDAQ Independent Director Requirement\n",
      " Sentiment Score: {'neg': 0.0, 'neu': 0.726, 'pos': 0.274, 'compound': 0.6739}\n"
     ]
    }
   ],
   "source": [
    "import nltk\n",
    "from nltk.sentiment.vader import SentimentIntensityAnalyzer\n",
    "sia = SentimentIntensityAnalyzer()\n",
    "for i, j in PC_News.iterrows(): \n",
    "    Passage = PC_News.News[i]\n",
    "    print(Passage)\n",
    "    print(\" Sentiment Score:\", sia.polarity_scores(Passage))"
   ]
  },
  {
   "cell_type": "code",
   "execution_count": null,
   "metadata": {},
   "outputs": [],
   "source": []
  },
  {
   "cell_type": "code",
   "execution_count": null,
   "metadata": {},
   "outputs": [],
   "source": []
  },
  {
   "cell_type": "markdown",
   "metadata": {},
   "source": [
    "## Merged all three dataframe into one DF"
   ]
  },
  {
   "cell_type": "code",
   "execution_count": null,
   "metadata": {},
   "outputs": [],
   "source": []
  },
  {
   "cell_type": "code",
   "execution_count": null,
   "metadata": {},
   "outputs": [],
   "source": []
  },
  {
   "cell_type": "code",
   "execution_count": null,
   "metadata": {},
   "outputs": [],
   "source": []
  },
  {
   "cell_type": "code",
   "execution_count": null,
   "metadata": {},
   "outputs": [],
   "source": []
  },
  {
   "cell_type": "code",
   "execution_count": null,
   "metadata": {},
   "outputs": [],
   "source": [
    "    "
   ]
  },
  {
   "cell_type": "code",
   "execution_count": null,
   "metadata": {},
   "outputs": [],
   "source": []
  },
  {
   "cell_type": "code",
   "execution_count": null,
   "metadata": {},
   "outputs": [],
   "source": []
  },
  {
   "cell_type": "code",
   "execution_count": null,
   "metadata": {},
   "outputs": [],
   "source": []
  }
 ],
 "metadata": {
  "kernelspec": {
   "display_name": "Python 3",
   "language": "python",
   "name": "python3"
  },
  "language_info": {
   "codemirror_mode": {
    "name": "ipython",
    "version": 3
   },
   "file_extension": ".py",
   "mimetype": "text/x-python",
   "name": "python",
   "nbconvert_exporter": "python",
   "pygments_lexer": "ipython3",
   "version": "3.7.4"
  }
 },
 "nbformat": 4,
 "nbformat_minor": 2
}
