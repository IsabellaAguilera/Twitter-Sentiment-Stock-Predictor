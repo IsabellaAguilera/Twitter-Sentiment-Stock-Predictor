{
 "cells": [
  {
   "cell_type": "markdown",
   "metadata": {},
   "source": [
    "# Import dependencies and libraries\n",
    "        - make sure the constituents_csv.csv ( used for ticker to sector map) is available in the same directory when you run this code. \n"
   ]
  },
  {
   "cell_type": "code",
   "execution_count": null,
   "metadata": {},
   "outputs": [],
   "source": [
    "# pip install pickle, yfinance\n",
    "import bs4 as bs\n",
    "import datetime as dt\n",
    "import os\n",
    "import pickle\n",
    "import requests\n",
    "import pandas as pd\n",
    "import yfinance as yf\n",
    "import pymongo\n"
   ]
  },
  {
   "cell_type": "markdown",
   "metadata": {},
   "source": [
    "# Generate S&P 500 Ticker list"
   ]
  },
  {
   "cell_type": "code",
   "execution_count": null,
   "metadata": {},
   "outputs": [],
   "source": [
    "# Define function that generates the S&P 500 ticker list by scraping wikipedia\n",
    "def save_sp500_tickers():\n",
    "    resp = requests.get('http://en.wikipedia.org/wiki/List_of_S%26P_500_companies')\n",
    "    soup = bs.BeautifulSoup(resp.text, 'lxml')\n",
    "    table = soup.find('table', {'class': 'wikitable sortable'})\n",
    "    tickers = []\n",
    "    \n",
    "    for row in table.findAll('tr')[1:]:\n",
    "        ticker = row.findAll('td')[0].text\n",
    "        tickers.append(ticker)\n",
    "        \n",
    "    with open(\"sp500tickers.pickle\", \"wb\") as f:\n",
    "        pickle.dump(tickers, f)\n",
    "    return tickers\n",
    "\n",
    "# Call the save_sp500_tickers to return the list of tickers\n",
    "s=save_sp500_tickers()\n",
    "\n",
    "# Strip the '/n' from the ticker list and assign it to a list variable called ticker \n",
    "ticker=[]\n",
    "\n",
    "for i in s:\n",
    "    tr=i.strip('\\n')\n",
    "    ticker.append(tr)\n",
    "    \n",
    "# display S&P 500 ticker list\n",
    "ticker"
   ]
  },
  {
   "cell_type": "markdown",
   "metadata": {},
   "source": [
    "# Generate Ticker to Sector map"
   ]
  },
  {
   "cell_type": "code",
   "execution_count": null,
   "metadata": {
    "scrolled": true
   },
   "outputs": [],
   "source": [
    "# Read CSV file to display the symbol ->Name-> sector info\n",
    "sector=pd.read_csv('constituents_csv.csv')\n",
    "sector.head()\n",
    "\n"
   ]
  },
  {
   "cell_type": "code",
   "execution_count": null,
   "metadata": {},
   "outputs": [],
   "source": [
    "# Create a dictionary sector_map that maps ticker to sector\n",
    "sector_map = dict(zip(sector.Symbol,sector.Sector))\n",
    "sector_map"
   ]
  },
  {
   "cell_type": "markdown",
   "metadata": {},
   "source": [
    "#  S&P 500 data - Download historical market data ( 1mo) from Yahoo! Finance "
   ]
  },
  {
   "cell_type": "code",
   "execution_count": null,
   "metadata": {},
   "outputs": [],
   "source": [
    "\n",
    "# initialize variables and counter\n",
    "df_ = []\n",
    "count=0\n",
    "\n",
    "# loop through ticker list and pull historic market data from yahoo Finance\n",
    "for ticker in ticker:\n",
    "    stock = yf.Ticker(ticker)\n",
    "    stock_data=stock.history(period=\"1mo\",actions=False,auto_adjust=False)\n",
    "    # map  ticker symbol to sector and add as columns to dataframe\n",
    "    stock_data['Symbol']=ticker\n",
    "    stock_data['Sector']=stock_data['Symbol'].map(sector_map)\n",
    "    df_.append(stock_data)\n",
    "    \n",
    "    #continue appending dataframe to a list (df_) and pop off the last dataframe. df_[0] is now the ultimate dataframe with al stockdata.\n",
    "    if (len(df_)>1):\n",
    "        df_[0] = df_[0].append(df_[-1])\n",
    "        df_.pop(-1)\n",
    "\n",
    "# rename the dataframe. final_data is the ultimate dataframe with stockdata for S&P 500 for 1 month period\n",
    "final_data=df_[0]\n",
    "final_data\n",
    "\n"
   ]
  },
  {
   "cell_type": "code",
   "execution_count": null,
   "metadata": {
    "scrolled": true
   },
   "outputs": [],
   "source": [
    "# sort data by descending order on date, and sort on Symbol and Sector\n",
    "market_data=final_data.reset_index()\n",
    "market_data.sort_values(by=['Date'], ascending=False,inplace=True)\n",
    "market_data.sort_values(by=['Sector','Symbol',],na_position='first',inplace=True)\n",
    "\n",
    "# Drop NaN values , 50 companies do not have an assoicated sector indentified and will be dropped\n",
    "market_Data=market_data.dropna()\n",
    "market_Data.reset_index(drop=True,inplace=True)\n",
    "market_Data=market_Data.reset_index()\n",
    "market_Data\n"
   ]
  },
  {
   "cell_type": "markdown",
   "metadata": {},
   "source": [
    "# Connect to MongoDB and store data"
   ]
  },
  {
   "cell_type": "code",
   "execution_count": null,
   "metadata": {},
   "outputs": [],
   "source": [
    "# modify the dataframe and convert to dict to store in mongoDB\n",
    "market_Data = market_Data.rename(columns={'index':'_id'})\n",
    "\n",
    "# Add 1 to each \"_id\" because first activity must start with 1 not 0.  Starting with \"_id\" = 0 will throw an error\n",
    "market_Data['_id'] = market_Data['_id'] + 1 \n",
    "\n",
    "# convert df to dict\n",
    "market_data = market_Data.to_dict('records')\n",
    "market_data"
   ]
  },
  {
   "cell_type": "code",
   "execution_count": null,
   "metadata": {},
   "outputs": [],
   "source": [
    "# Set up the MongoDB connection through pymongo\n",
    "\n",
    "myclient = pymongo.MongoClient(\"mongodb://localhost:27017/\")\n",
    "\n",
    "# Create DB\n",
    "\n",
    "db = myclient[\"stock_Data\"]\n",
    "\n",
    "# Create collection and insert all the data into the MongoDB\n",
    "\n",
    "mycol = db[\"Market_Data\"]\n",
    "mycol.drop()\n",
    "mycol.insert_many(market_data)"
   ]
  },
  {
   "cell_type": "markdown",
   "metadata": {},
   "source": [
    "# Func to return 1 company stock data - Download historical market data ( 1mo) from Yahoo! Finance "
   ]
  },
  {
   "cell_type": "code",
   "execution_count": null,
   "metadata": {
    "scrolled": true
   },
   "outputs": [],
   "source": [
    "def stock_data():\n",
    "    stock = yf.Ticker(\"GOOGL\")\n",
    "    stock_data1=stock.history(period=\"1mo\",actions=False,auto_adjust=False)\n",
    "    # map  ticker symbol to sector and add as columns to dataframe\n",
    "    stock_data1['Symbol']=\"GOOGL\"\n",
    "    stock_data1['Sector']=stock_data1['Symbol'].map(sector_map)\n",
    "    stock_data1\n",
    "    #  sort data by descending order on date and reset index\n",
    "    stock_data1.reset_index(inplace=True)\n",
    "    stock_data1.sort_values(by=['Date'], ascending=False,inplace=True)\n",
    "    stock_data1.reset_index(drop=True,inplace=True)\n",
    "    return stock_data1 # this returns a dataframe, let me know if this needs to be a dict."
   ]
  },
  {
   "cell_type": "code",
   "execution_count": null,
   "metadata": {
    "scrolled": true
   },
   "outputs": [],
   "source": [
    "stock_data2=stock_data()\n",
    "stock_data2['Date']"
   ]
  },
  {
   "cell_type": "code",
   "execution_count": null,
   "metadata": {},
   "outputs": [],
   "source": [
    "stock_data2['Date'] = pd.to_datetime(stock_data2['Date'])\n",
    "stock_data2['Date'].dt.date"
   ]
  },
  {
   "cell_type": "code",
   "execution_count": null,
   "metadata": {},
   "outputs": [],
   "source": [
    "# Get data function\n",
    "def get_data(df):  \n",
    "    data = stock_data2.copy()\n",
    "#     data['Date'] = data['Date'].str.split('-').str[2]\n",
    "#     data['Date'] = pd.to_numeric(data['Date'])\n",
    "    data['Date'] = pd.to_datetime(data['Date'])\n",
    "#     data['Date']=data['Date'].dt.date\n",
    "    data['Date'] = pd.to_numeric(data['Date'])\n",
    "    return [ data['Date'].tolist(), data['Adj Close'].tolist() ] # Convert Series to list\n",
    "dates, prices = get_data(stock_data2)"
   ]
  },
  {
   "cell_type": "code",
   "execution_count": null,
   "metadata": {},
   "outputs": [],
   "source": [
    "dates"
   ]
  },
  {
   "cell_type": "code",
   "execution_count": null,
   "metadata": {},
   "outputs": [],
   "source": [
    "import numpy as np\n",
    "from sklearn.svm import SVR \n",
    "import matplotlib.pyplot as plt \n",
    "import pandas as pd \n",
    "\n",
    "%matplotlib inline"
   ]
  },
  {
   "cell_type": "code",
   "execution_count": null,
   "metadata": {},
   "outputs": [],
   "source": [
    "# predict and plot function\n",
    "def predict_prices(dates, prices, x):\n",
    "    dates = np.reshape(dates,(len(dates), 1)) # convert to 1xn dimension\n",
    "    x = np.reshape(x,(len(x), 1))\n",
    "    \n",
    "    svr_lin  = SVR(kernel='linear', C=1e3)\n",
    "    svr_poly = SVR(kernel='poly', C=1e3, degree=2)\n",
    "    svr_rbf = SVR(kernel='rbf', C=1e3, gamma=0.1)\n",
    "    \n",
    "    # Fit regression model\n",
    "    svr_lin .fit(dates, prices)\n",
    "    svr_poly.fit(dates, prices)\n",
    "    svr_rbf.fit(dates, prices)\n",
    "    \n",
    "    plt.scatter(dates, prices, c='k', label='Data')\n",
    "    plt.plot(dates, svr_lin.predict(dates), c='g', label='Linear model')\n",
    "    plt.plot(dates, svr_rbf.predict(dates), c='r', label='RBF model')    \n",
    "    plt.plot(dates, svr_poly.predict(dates), c='b', label='Polynomial model')\n",
    "    \n",
    "    plt.xlabel('Date')\n",
    "    plt.ylabel('Price')\n",
    "    plt.title('Support Vector Regression')\n",
    "    plt.legend()\n",
    "    plt.show()\n",
    "    \n",
    "    return svr_rbf.predict(x)[0], svr_lin.predict(x)[0], svr_poly.predict(x)[0]"
   ]
  },
  {
   "cell_type": "code",
   "execution_count": null,
   "metadata": {},
   "outputs": [],
   "source": [
    "predicted_price = predict_prices(dates, prices, [31])"
   ]
  },
  {
   "cell_type": "code",
   "execution_count": null,
   "metadata": {},
   "outputs": [],
   "source": []
  }
 ],
 "metadata": {
  "kernelspec": {
   "display_name": "Python 3",
   "language": "python",
   "name": "python3"
  },
  "language_info": {
   "codemirror_mode": {
    "name": "ipython",
    "version": 3
   },
   "file_extension": ".py",
   "mimetype": "text/x-python",
   "name": "python",
   "nbconvert_exporter": "python",
   "pygments_lexer": "ipython3",
   "version": "3.6.9"
  }
 },
 "nbformat": 4,
 "nbformat_minor": 2
}
