{
 "cells": [
  {
   "cell_type": "code",
   "execution_count": 22,
   "metadata": {},
   "outputs": [],
   "source": [
    "import bs4 as bs\n",
    "import datetime as dt\n",
    "import os\n",
    "import pickle\n",
    "import requests\n",
    "import pandas as pd\n",
    "import yfinance as yf\n",
    "import pymongo\n",
    "import string"
   ]
  },
  {
   "cell_type": "code",
   "execution_count": 24,
   "metadata": {},
   "outputs": [
    {
     "data": {
      "text/html": [
       "<div>\n",
       "<style scoped>\n",
       "    .dataframe tbody tr th:only-of-type {\n",
       "        vertical-align: middle;\n",
       "    }\n",
       "\n",
       "    .dataframe tbody tr th {\n",
       "        vertical-align: top;\n",
       "    }\n",
       "\n",
       "    .dataframe thead th {\n",
       "        text-align: right;\n",
       "    }\n",
       "</style>\n",
       "<table border=\"1\" class=\"dataframe\">\n",
       "  <thead>\n",
       "    <tr style=\"text-align: right;\">\n",
       "      <th></th>\n",
       "      <th>Ticker</th>\n",
       "      <th>Name</th>\n",
       "      <th>Sector</th>\n",
       "      <th>Industry</th>\n",
       "      <th>Price</th>\n",
       "      <th>Collection</th>\n",
       "    </tr>\n",
       "  </thead>\n",
       "  <tbody>\n",
       "    <tr>\n",
       "      <th>0</th>\n",
       "      <td>A</td>\n",
       "      <td>AGILENT TECHNOLOGIES INC</td>\n",
       "      <td>Healthcare</td>\n",
       "      <td>Medical Laboratories &amp; Research</td>\n",
       "      <td>WIKI/A</td>\n",
       "      <td>stocks/a</td>\n",
       "    </tr>\n",
       "    <tr>\n",
       "      <th>1</th>\n",
       "      <td>AA</td>\n",
       "      <td>ALCOA INC</td>\n",
       "      <td>Basic Materials</td>\n",
       "      <td>Aluminum</td>\n",
       "      <td>WIKI/AA</td>\n",
       "      <td>stocks/aa</td>\n",
       "    </tr>\n",
       "    <tr>\n",
       "      <th>2</th>\n",
       "      <td>AAME</td>\n",
       "      <td>ATLANTIC AMERICAN CORP</td>\n",
       "      <td>Financial</td>\n",
       "      <td>Life Insurance</td>\n",
       "      <td>NaN</td>\n",
       "      <td>stocks/aame</td>\n",
       "    </tr>\n",
       "    <tr>\n",
       "      <th>3</th>\n",
       "      <td>AAN</td>\n",
       "      <td>AARONS INC</td>\n",
       "      <td>Services</td>\n",
       "      <td>Rental &amp; Leasing Services</td>\n",
       "      <td>WIKI/AAN</td>\n",
       "      <td>stocks/aan</td>\n",
       "    </tr>\n",
       "    <tr>\n",
       "      <th>4</th>\n",
       "      <td>AAON</td>\n",
       "      <td>AAON INC</td>\n",
       "      <td>Industrial Goods</td>\n",
       "      <td>General Building Materials</td>\n",
       "      <td>WIKI/AAON</td>\n",
       "      <td>stocks/aaon</td>\n",
       "    </tr>\n",
       "  </tbody>\n",
       "</table>\n",
       "</div>"
      ],
      "text/plain": [
       "  Ticker                      Name            Sector  \\\n",
       "0      A  AGILENT TECHNOLOGIES INC        Healthcare   \n",
       "1     AA                 ALCOA INC   Basic Materials   \n",
       "2   AAME    ATLANTIC AMERICAN CORP         Financial   \n",
       "3    AAN                AARONS INC          Services   \n",
       "4   AAON                  AAON INC  Industrial Goods   \n",
       "\n",
       "                          Industry      Price   Collection  \n",
       "0  Medical Laboratories & Research     WIKI/A     stocks/a  \n",
       "1                         Aluminum    WIKI/AA    stocks/aa  \n",
       "2                   Life Insurance        NaN  stocks/aame  \n",
       "3        Rental & Leasing Services   WIKI/AAN   stocks/aan  \n",
       "4       General Building Materials  WIKI/AAON  stocks/aaon  "
      ]
     },
     "execution_count": 24,
     "metadata": {},
     "output_type": "execute_result"
    }
   ],
   "source": [
    "ticker_to_company_name = pd.read_csv('secwiki_tickers.csv')\n",
    "ticker_to_company_name['Name'] = ticker_to_company_name['Name'].str.translate(str.maketrans('','', string.punctuation))\n",
    "ticker_to_company_name['Name'] = ticker_to_company_name['Name'].str.upper()\n",
    "ticker_to_company_name['Name'] = ticker_to_company_name['Name'].str.strip()\n",
    "ticker_to_company_name.head()"
   ]
  },
  {
   "cell_type": "code",
   "execution_count": 66,
   "metadata": {},
   "outputs": [
    {
     "name": "stdout",
     "output_type": "stream",
     "text": [
      "yes\n"
     ]
    }
   ],
   "source": [
    "x = ticker_to_company_name.loc[ticker_to_company_name['Name'] == 'APPLE INC']#['Ticker'].iloc[0]\n",
    "if ticker_to_company_name.loc[ticker_to_company_name['Name'] == 'APPLE IN'].empty:\n",
    "    print('yes')"
   ]
  },
  {
   "cell_type": "code",
   "execution_count": 28,
   "metadata": {},
   "outputs": [],
   "source": [
    "def find_ticker_data(company_name, ticker_to_company_df):\n",
    "    try:\n",
    "        company_name = company_name.translate(str.maketrans('','', string.punctuation))\n",
    "        company_name = company_name.upper()\n",
    "        company_name = company_name.strip()\n",
    "        ticker = ticker_to_company_df.loc[ticker_to_company_df['Name'] == company_name]['Ticker'].iloc[0]\n",
    "        company_sector = ticker_to_company_df.loc[ticker_to_company_df['Name'] == company_name]['Sector'].iloc[0]\n",
    "        name = ticker_to_company_df.loc[ticker_to_company_df['Name'] == company_name]['Name'].iloc[0]\n",
    "    except:\n",
    "        print('This is not a valid company name.')\n",
    "        return 'This is not a valid company name.'\n",
    "    stock = yf.Ticker(ticker)\n",
    "    stock_data=stock.history(period=\"1mo\",actions=False,auto_adjust=False)\n",
    "    stock_data['Symbol']=ticker\n",
    "    stock_data['Sector']= company_sector\n",
    "    stock_data['Company Name'] = name\n",
    "    stock_data = stock_data[['Close', 'Symbol', 'Sector', 'Company Name']]\n",
    "    stock_data.reset_index\n",
    "    return stock_data"
   ]
  },
  {
   "cell_type": "code",
   "execution_count": null,
   "metadata": {},
   "outputs": [],
   "source": []
  },
  {
   "cell_type": "code",
   "execution_count": 58,
   "metadata": {},
   "outputs": [
    {
     "name": "stdout",
     "output_type": "stream",
     "text": [
      "- YHOO: No data found for this date range, symbol may be delisted\n"
     ]
    }
   ],
   "source": [
    "df2 = find_ticker_data('YAHOO INC', ticker_to_company_name)"
   ]
  },
  {
   "cell_type": "code",
   "execution_count": 59,
   "metadata": {},
   "outputs": [
    {
     "data": {
      "text/html": [
       "<div>\n",
       "<style scoped>\n",
       "    .dataframe tbody tr th:only-of-type {\n",
       "        vertical-align: middle;\n",
       "    }\n",
       "\n",
       "    .dataframe tbody tr th {\n",
       "        vertical-align: top;\n",
       "    }\n",
       "\n",
       "    .dataframe thead th {\n",
       "        text-align: right;\n",
       "    }\n",
       "</style>\n",
       "<table border=\"1\" class=\"dataframe\">\n",
       "  <thead>\n",
       "    <tr style=\"text-align: right;\">\n",
       "      <th></th>\n",
       "      <th>Close</th>\n",
       "      <th>Symbol</th>\n",
       "      <th>Sector</th>\n",
       "      <th>Company Name</th>\n",
       "    </tr>\n",
       "    <tr>\n",
       "      <th>Date</th>\n",
       "      <th></th>\n",
       "      <th></th>\n",
       "      <th></th>\n",
       "      <th></th>\n",
       "    </tr>\n",
       "  </thead>\n",
       "  <tbody>\n",
       "  </tbody>\n",
       "</table>\n",
       "</div>"
      ],
      "text/plain": [
       "Empty DataFrame\n",
       "Columns: [Close, Symbol, Sector, Company Name]\n",
       "Index: []"
      ]
     },
     "execution_count": 59,
     "metadata": {},
     "output_type": "execute_result"
    }
   ],
   "source": [
    "df2"
   ]
  },
  {
   "cell_type": "code",
   "execution_count": 54,
   "metadata": {},
   "outputs": [
    {
     "name": "stderr",
     "output_type": "stream",
     "text": [
      "/anaconda3/lib/python3.7/site-packages/ipykernel_launcher.py:3: SettingWithCopyWarning: \n",
      "A value is trying to be set on a copy of a slice from a DataFrame\n",
      "\n",
      "See the caveats in the documentation: http://pandas.pydata.org/pandas-docs/stable/indexing.html#indexing-view-versus-copy\n",
      "  This is separate from the ipykernel package so we can avoid doing imports until\n"
     ]
    }
   ],
   "source": [
    "df4 = up_down(df2)\n",
    "df4.reset_index(inplace = True)\n",
    "df4.sort_values(by = 'Date', inplace = True)"
   ]
  },
  {
   "cell_type": "code",
   "execution_count": 55,
   "metadata": {},
   "outputs": [
    {
     "data": {
      "text/html": [
       "<div>\n",
       "<style scoped>\n",
       "    .dataframe tbody tr th:only-of-type {\n",
       "        vertical-align: middle;\n",
       "    }\n",
       "\n",
       "    .dataframe tbody tr th {\n",
       "        vertical-align: top;\n",
       "    }\n",
       "\n",
       "    .dataframe thead th {\n",
       "        text-align: right;\n",
       "    }\n",
       "</style>\n",
       "<table border=\"1\" class=\"dataframe\">\n",
       "  <thead>\n",
       "    <tr style=\"text-align: right;\">\n",
       "      <th></th>\n",
       "      <th>Date</th>\n",
       "      <th>Close</th>\n",
       "      <th>Symbol</th>\n",
       "      <th>Sector</th>\n",
       "      <th>Company Name</th>\n",
       "      <th>Price Change</th>\n",
       "    </tr>\n",
       "  </thead>\n",
       "  <tbody>\n",
       "    <tr>\n",
       "      <th>0</th>\n",
       "      <td>2020-01-07</td>\n",
       "      <td>298.39</td>\n",
       "      <td>AAPL</td>\n",
       "      <td>Consumer Goods</td>\n",
       "      <td>APPLE INC</td>\n",
       "      <td>down</td>\n",
       "    </tr>\n",
       "    <tr>\n",
       "      <th>1</th>\n",
       "      <td>2020-01-08</td>\n",
       "      <td>303.19</td>\n",
       "      <td>AAPL</td>\n",
       "      <td>Consumer Goods</td>\n",
       "      <td>APPLE INC</td>\n",
       "      <td>up</td>\n",
       "    </tr>\n",
       "    <tr>\n",
       "      <th>2</th>\n",
       "      <td>2020-01-09</td>\n",
       "      <td>309.63</td>\n",
       "      <td>AAPL</td>\n",
       "      <td>Consumer Goods</td>\n",
       "      <td>APPLE INC</td>\n",
       "      <td>up</td>\n",
       "    </tr>\n",
       "    <tr>\n",
       "      <th>3</th>\n",
       "      <td>2020-01-10</td>\n",
       "      <td>310.33</td>\n",
       "      <td>AAPL</td>\n",
       "      <td>Consumer Goods</td>\n",
       "      <td>APPLE INC</td>\n",
       "      <td>up</td>\n",
       "    </tr>\n",
       "    <tr>\n",
       "      <th>4</th>\n",
       "      <td>2020-01-13</td>\n",
       "      <td>316.96</td>\n",
       "      <td>AAPL</td>\n",
       "      <td>Consumer Goods</td>\n",
       "      <td>APPLE INC</td>\n",
       "      <td>up</td>\n",
       "    </tr>\n",
       "    <tr>\n",
       "      <th>5</th>\n",
       "      <td>2020-01-14</td>\n",
       "      <td>312.68</td>\n",
       "      <td>AAPL</td>\n",
       "      <td>Consumer Goods</td>\n",
       "      <td>APPLE INC</td>\n",
       "      <td>down</td>\n",
       "    </tr>\n",
       "    <tr>\n",
       "      <th>6</th>\n",
       "      <td>2020-01-15</td>\n",
       "      <td>311.34</td>\n",
       "      <td>AAPL</td>\n",
       "      <td>Consumer Goods</td>\n",
       "      <td>APPLE INC</td>\n",
       "      <td>down</td>\n",
       "    </tr>\n",
       "  </tbody>\n",
       "</table>\n",
       "</div>"
      ],
      "text/plain": [
       "        Date   Close Symbol          Sector Company Name Price Change\n",
       "0 2020-01-07  298.39   AAPL  Consumer Goods    APPLE INC         down\n",
       "1 2020-01-08  303.19   AAPL  Consumer Goods    APPLE INC           up\n",
       "2 2020-01-09  309.63   AAPL  Consumer Goods    APPLE INC           up\n",
       "3 2020-01-10  310.33   AAPL  Consumer Goods    APPLE INC           up\n",
       "4 2020-01-13  316.96   AAPL  Consumer Goods    APPLE INC           up\n",
       "5 2020-01-14  312.68   AAPL  Consumer Goods    APPLE INC         down\n",
       "6 2020-01-15  311.34   AAPL  Consumer Goods    APPLE INC         down"
      ]
     },
     "execution_count": 55,
     "metadata": {},
     "output_type": "execute_result"
    }
   ],
   "source": [
    "df4"
   ]
  },
  {
   "cell_type": "code",
   "execution_count": 50,
   "metadata": {},
   "outputs": [],
   "source": [
    "def up_down(df):\n",
    "    day_change = []\n",
    "    for i in range(len(df)):\n",
    "        if i == 0:\n",
    "            day_change.append(None)\n",
    "            continue\n",
    "        today = df.iloc[i,0]\n",
    "        yesterday = df.iloc[i-1,0]\n",
    "        if today >= yesterday:\n",
    "            day_change.append('up')\n",
    "        else:\n",
    "            day_change.append('down')\n",
    "    df['Price Change'] = day_change\n",
    "    df.reset_index(inplace = True)\n",
    "    return df.iloc[-7:]\n",
    "        \n",
    "        "
   ]
  },
  {
   "cell_type": "code",
   "execution_count": null,
   "metadata": {},
   "outputs": [],
   "source": [
    "df_ = []\n",
    "count=0\n",
    "\n",
    "# loop through ticker list and pull historic market data from yahoo Finance\n",
    "for ticker in ticker:\n",
    "    stock = yf.Ticker(ticker)\n",
    "    stock_data=stock.history(period=\"1mo\",actions=False,auto_adjust=False)\n",
    "    # map  ticker symbol to sector and add as columns to dataframe\n",
    "    stock_data['Symbol']=ticker\n",
    "    stock_data['Sector']=stock_data['Symbol'].map(sector_map)\n",
    "    df_.append(stock_data)\n",
    "    \n",
    "    #continue appending dataframe to a list (df_) and pop off the last dataframe. df_[0] is now the ultimate dataframe with al stockdata.\n",
    "    if (len(df_)>1):\n",
    "        df_[0] = df_[0].append(df_[-1])\n",
    "        df_.pop(-1)\n",
    "\n",
    "# rename the dataframe. final_data is the ultimate dataframe with stockdata for S&P 500 for 1 month period\n",
    "final_data=df_[0]\n",
    "final_data"
   ]
  }
 ],
 "metadata": {
  "kernelspec": {
   "display_name": "Python 3",
   "language": "python",
   "name": "python3"
  },
  "language_info": {
   "codemirror_mode": {
    "name": "ipython",
    "version": 3
   },
   "file_extension": ".py",
   "mimetype": "text/x-python",
   "name": "python",
   "nbconvert_exporter": "python",
   "pygments_lexer": "ipython3",
   "version": "3.7.3"
  }
 },
 "nbformat": 4,
 "nbformat_minor": 2
}
