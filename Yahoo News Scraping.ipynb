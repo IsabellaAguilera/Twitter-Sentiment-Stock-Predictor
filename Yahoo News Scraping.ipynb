{
 "cells": [
  {
   "cell_type": "markdown",
   "metadata": {},
   "source": [
    "## Yahoo News Scrape"
   ]
  },
  {
   "cell_type": "code",
   "execution_count": 7,
   "metadata": {},
   "outputs": [],
   "source": [
    "#Importing all the libraries required for scraping\n",
    "\n",
    "from splinter import Browser\n",
    "from bs4 import BeautifulSoup \n",
    "import requests\n",
    "import time\n",
    "import pandas as pd\n",
    "import pprint\n",
    "import webbrowser\n",
    "import urllib\n",
    "import re\n",
    "import pymongo\n"
   ]
  },
  {
   "cell_type": "code",
   "execution_count": 8,
   "metadata": {},
   "outputs": [],
   "source": [
    "# using the crome driver for scraping\n",
    "\n",
    "executable_path = {'executable_path': 'chromedriver.exe'}\n",
    "browser = Browser('chrome', **executable_path, headless=False)\n",
    "#browser = Browser()"
   ]
  },
  {
   "cell_type": "code",
   "execution_count": 26,
   "metadata": {
    "scrolled": true
   },
   "outputs": [
    {
     "name": "stdout",
     "output_type": "stream",
     "text": [
      "10\n"
     ]
    },
    {
     "data": {
      "text/html": [
       "<div>\n",
       "<style scoped>\n",
       "    .dataframe tbody tr th:only-of-type {\n",
       "        vertical-align: middle;\n",
       "    }\n",
       "\n",
       "    .dataframe tbody tr th {\n",
       "        vertical-align: top;\n",
       "    }\n",
       "\n",
       "    .dataframe thead th {\n",
       "        text-align: right;\n",
       "    }\n",
       "</style>\n",
       "<table border=\"1\" class=\"dataframe\">\n",
       "  <thead>\n",
       "    <tr style=\"text-align: right;\">\n",
       "      <th></th>\n",
       "      <th>Headline</th>\n",
       "      <th>News</th>\n",
       "      <th>news_url</th>\n",
       "    </tr>\n",
       "  </thead>\n",
       "  <tbody>\n",
       "    <tr>\n",
       "      <td>0</td>\n",
       "      <td>[Tesla’s stock surged nearly 10% to a record h...</td>\n",
       "      <td>Tesla has 'key advantage' over other automaker...</td>\n",
       "      <td>/news/tesla-has-key-advantage-over-other-autom...</td>\n",
       "    </tr>\n",
       "    <tr>\n",
       "      <td>1</td>\n",
       "      <td>[Oppenheimer raised its price target on Tesla ...</td>\n",
       "      <td>Oppenheimer analyst explains why he boosted pr...</td>\n",
       "      <td>/video/musk-teases-tesla-ability-communicate-1...</td>\n",
       "    </tr>\n",
       "    <tr>\n",
       "      <td>2</td>\n",
       "      <td>[JPMorgan Asset Management Jack Manley and Cro...</td>\n",
       "      <td>Dow aims to top 29,000 again in busy week</td>\n",
       "      <td>/video/dow-aims-top-29-000-145123014.html</td>\n",
       "    </tr>\n",
       "    <tr>\n",
       "      <td>3</td>\n",
       "      <td>[The US stocks started last week trading lower...</td>\n",
       "      <td>5 Stocks Financial Advisors Are Checking Out</td>\n",
       "      <td>/news/5-stocks-financial-advisors-checking-234...</td>\n",
       "    </tr>\n",
       "    <tr>\n",
       "      <td>4</td>\n",
       "      <td>[Betting on Elon Musk and Tesla put a 2,097% g...</td>\n",
       "      <td>Better Than Tesla? 2 Stocks Leave Elon Musk In...</td>\n",
       "      <td>/m/24e0d006-3fe1-3bb1-bc90-bca8a2d24a1b/better...</td>\n",
       "    </tr>\n",
       "  </tbody>\n",
       "</table>\n",
       "</div>"
      ],
      "text/plain": [
       "                                            Headline  \\\n",
       "0  [Tesla’s stock surged nearly 10% to a record h...   \n",
       "1  [Oppenheimer raised its price target on Tesla ...   \n",
       "2  [JPMorgan Asset Management Jack Manley and Cro...   \n",
       "3  [The US stocks started last week trading lower...   \n",
       "4  [Betting on Elon Musk and Tesla put a 2,097% g...   \n",
       "\n",
       "                                                News  \\\n",
       "0  Tesla has 'key advantage' over other automaker...   \n",
       "1  Oppenheimer analyst explains why he boosted pr...   \n",
       "2          Dow aims to top 29,000 again in busy week   \n",
       "3       5 Stocks Financial Advisors Are Checking Out   \n",
       "4  Better Than Tesla? 2 Stocks Leave Elon Musk In...   \n",
       "\n",
       "                                            news_url  \n",
       "0  /news/tesla-has-key-advantage-over-other-autom...  \n",
       "1  /video/musk-teases-tesla-ability-communicate-1...  \n",
       "2          /video/dow-aims-top-29-000-145123014.html  \n",
       "3  /news/5-stocks-financial-advisors-checking-234...  \n",
       "4  /m/24e0d006-3fe1-3bb1-bc90-bca8a2d24a1b/better...  "
      ]
     },
     "execution_count": 26,
     "metadata": {},
     "output_type": "execute_result"
    }
   ],
   "source": [
    "#Please enter the ticker you want to scrape the news from\n",
    "Ticker = \"TSLA\"\n",
    "\n",
    "\n",
    "# Url for main page\n",
    "url = 'https://finance.yahoo.com/quote/'+ Ticker +'?p='+ Ticker +'&.tsrc=fin-tre-srch'\n",
    "browser.visit(url)\n",
    "\n",
    "# updating the page by clicking on search button\n",
    "#browser.find_by_name('btnG').first.click()\n",
    "\n",
    "# parser\n",
    "html = browser.html\n",
    "soup = BeautifulSoup(html, 'html.parser')\n",
    "time.sleep(5)\n",
    "\n",
    "# storing all the data from the main class\n",
    "Data = soup.find_all('div',class_='Py(14px) Pos(r)')\n",
    "\n",
    "print(len(Data))\n",
    "\n",
    "news_url = []\n",
    "news = []\n",
    "headline = []\n",
    "# search variables Name and reviews within main class using for loop\n",
    "\n",
    "for tr in Data:\n",
    "  if tr.find('a'):\n",
    "    headline.append(tr.find('p'))\n",
    "    news_url.append(tr.find('a')['href'])\n",
    "    news.append(tr.find('a').text)\n",
    "df = pd.DataFrame({\"Headline\": headline, \"News\":news,\"news_url\":news_url})\n",
    "df.head()"
   ]
  },
  {
   "cell_type": "code",
   "execution_count": null,
   "metadata": {},
   "outputs": [],
   "source": []
  },
  {
   "cell_type": "code",
   "execution_count": null,
   "metadata": {},
   "outputs": [],
   "source": []
  },
  {
   "cell_type": "markdown",
   "metadata": {},
   "source": [
    "## List only Nasdaq and NYSE listed companies"
   ]
  },
  {
   "cell_type": "code",
   "execution_count": 27,
   "metadata": {},
   "outputs": [],
   "source": [
    "\n",
    "PC_News = df"
   ]
  },
  {
   "cell_type": "code",
   "execution_count": null,
   "metadata": {
    "scrolled": true
   },
   "outputs": [],
   "source": []
  },
  {
   "cell_type": "code",
   "execution_count": 28,
   "metadata": {},
   "outputs": [
    {
     "name": "stdout",
     "output_type": "stream",
     "text": [
      "                                            Headline  \\\n",
      "0  [Tesla’s stock surged nearly 10% to a record h...   \n",
      "1  [Oppenheimer raised its price target on Tesla ...   \n",
      "2  [JPMorgan Asset Management Jack Manley and Cro...   \n",
      "3  [The US stocks started last week trading lower...   \n",
      "4  [Betting on Elon Musk and Tesla put a 2,097% g...   \n",
      "\n",
      "                                                News  \\\n",
      "0  Tesla has 'key advantage' over other automaker...   \n",
      "1  Oppenheimer analyst explains why he boosted pr...   \n",
      "2          Dow aims to top 29,000 again in busy week   \n",
      "3       5 Stocks Financial Advisors Are Checking Out   \n",
      "4  Better Than Tesla? 2 Stocks Leave Elon Musk In...   \n",
      "\n",
      "                                            news_url  \n",
      "0  /news/tesla-has-key-advantage-over-other-autom...  \n",
      "1  /video/musk-teases-tesla-ability-communicate-1...  \n",
      "2          /video/dow-aims-top-29-000-145123014.html  \n",
      "3  /news/5-stocks-financial-advisors-checking-234...  \n",
      "4  /m/24e0d006-3fe1-3bb1-bc90-bca8a2d24a1b/better...  \n"
     ]
    }
   ],
   "source": [
    "print(PC_News.head())\n",
    "PC_News.to_csv('OutputNews.csv')"
   ]
  },
  {
   "cell_type": "markdown",
   "metadata": {},
   "source": []
  },
  {
   "cell_type": "code",
   "execution_count": 29,
   "metadata": {},
   "outputs": [
    {
     "name": "stdout",
     "output_type": "stream",
     "text": [
      "Tesla has 'key advantage' over other automakers, analyst says\n",
      " Sentiment Score: {'neg': 0.0, 'neu': 0.8, 'pos': 0.2, 'compound': 0.25}\n",
      "Oppenheimer analyst explains why he boosted price target on Tesla to $612\n",
      " Sentiment Score: {'neg': 0.0, 'neu': 0.815, 'pos': 0.185, 'compound': 0.3612}\n",
      "Dow aims to top 29,000 again in busy week\n",
      " Sentiment Score: {'neg': 0.0, 'neu': 0.816, 'pos': 0.184, 'compound': 0.2023}\n",
      "5 Stocks Financial Advisors Are Checking Out\n",
      " Sentiment Score: {'neg': 0.0, 'neu': 1.0, 'pos': 0.0, 'compound': 0.0}\n",
      "Better Than Tesla? 2 Stocks Leave Elon Musk In The Dust\n",
      " Sentiment Score: {'neg': 0.099, 'neu': 0.661, 'pos': 0.24, 'compound': 0.4019}\n",
      "Tesla stock tops $500 for the first time\n",
      " Sentiment Score: {'neg': 0.0, 'neu': 0.68, 'pos': 0.32, 'compound': 0.5106}\n",
      "Dow Eyes 29,000 As China News Propels S&P 500, Nasdaq To Record High\n",
      " Sentiment Score: {'neg': 0.0, 'neu': 1.0, 'pos': 0.0, 'compound': 0.0}\n",
      "Tesla Stock Hits Another High On Praise For Its 'Larger Ambition'\n",
      " Sentiment Score: {'neg': 0.0, 'neu': 0.735, 'pos': 0.265, 'compound': 0.5574}\n",
      "S&P 500, Nasdaq close at new records ahead of U.S.-China trade deal signing\n",
      " Sentiment Score: {'neg': 0.0, 'neu': 1.0, 'pos': 0.0, 'compound': 0.0}\n",
      "These stocks soared even as the companies lost money — here’s why that’s not as crazy as it sounds\n",
      " Sentiment Score: {'neg': 0.113, 'neu': 0.787, 'pos': 0.1, 'compound': -0.068}\n"
     ]
    }
   ],
   "source": [
    "import nltk\n",
    "from nltk.sentiment.vader import SentimentIntensityAnalyzer\n",
    "sia = SentimentIntensityAnalyzer()\n",
    "for i, j in PC_News.iterrows(): \n",
    "    Passage = PC_News.News[i]\n",
    "    print(Passage)\n",
    "    print(\" Sentiment Score:\", sia.polarity_scores(Passage))"
   ]
  },
  {
   "cell_type": "markdown",
   "metadata": {},
   "source": [
    "## Merged all three dataframe into one DF"
   ]
  },
  {
   "cell_type": "code",
   "execution_count": null,
   "metadata": {},
   "outputs": [],
   "source": []
  },
  {
   "cell_type": "code",
   "execution_count": null,
   "metadata": {},
   "outputs": [],
   "source": []
  },
  {
   "cell_type": "code",
   "execution_count": null,
   "metadata": {},
   "outputs": [],
   "source": []
  },
  {
   "cell_type": "code",
   "execution_count": null,
   "metadata": {},
   "outputs": [],
   "source": [
    "    "
   ]
  },
  {
   "cell_type": "code",
   "execution_count": null,
   "metadata": {},
   "outputs": [],
   "source": []
  },
  {
   "cell_type": "code",
   "execution_count": null,
   "metadata": {},
   "outputs": [],
   "source": []
  },
  {
   "cell_type": "code",
   "execution_count": null,
   "metadata": {},
   "outputs": [],
   "source": []
  }
 ],
 "metadata": {
  "kernelspec": {
   "display_name": "Python 3",
   "language": "python",
   "name": "python3"
  },
  "language_info": {
   "codemirror_mode": {
    "name": "ipython",
    "version": 3
   },
   "file_extension": ".py",
   "mimetype": "text/x-python",
   "name": "python",
   "nbconvert_exporter": "python",
   "pygments_lexer": "ipython3",
   "version": "3.7.4"
  }
 },
 "nbformat": 4,
 "nbformat_minor": 2
}
