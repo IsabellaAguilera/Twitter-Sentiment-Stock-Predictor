{
 "cells": [
  {
   "cell_type": "markdown",
   "metadata": {},
   "source": [
    "## Yahoo News Scrape"
   ]
  },
  {
   "cell_type": "code",
   "execution_count": 1,
   "metadata": {},
   "outputs": [],
   "source": [
    "#Importing all the libraries required for scraping\n",
    "from splinter import Browser\n",
    "from bs4 import BeautifulSoup \n",
    "import requests\n",
    "import time\n",
    "import pandas as pd\n",
    "import pprint\n",
    "import webbrowser\n",
    "import urllib\n",
    "import re\n",
    "import pymongo\n",
    "from datetime import datetime\n",
    "\n",
    "from selenium import webdriver\n",
    "from selenium.webdriver.common.keys import Keys\n"
   ]
  },
  {
   "cell_type": "code",
   "execution_count": 2,
   "metadata": {},
   "outputs": [],
   "source": [
    "# using the crome driver for scraping\n",
    "executable_path = {'executable_path': 'chromedriver.exe'}\n",
    "browser = Browser('chrome', **executable_path, headless=False)\n",
    "\n",
    "\n",
    "#browser = Browser()"
   ]
  },
  {
   "cell_type": "code",
   "execution_count": 3,
   "metadata": {},
   "outputs": [],
   "source": [
    "#Please enter the ticker you want to scrape the news from\n",
    "Ticker = \"TSLA\"\n",
    "\n",
    "# Url for main page\n",
    "url = 'https://finance.yahoo.com/quote/'+ Ticker +'?p='+ Ticker +'&.tsrc=fin-tre-srch'\n",
    "browser.visit(url)\n",
    "\n",
    "# parser\n",
    "html = browser.html\n",
    "soup = BeautifulSoup(html, 'html.parser')\n",
    "#time.sleep(2)\n",
    "\n"
   ]
  },
  {
   "cell_type": "code",
   "execution_count": 4,
   "metadata": {
    "scrolled": true
   },
   "outputs": [
    {
     "name": "stdout",
     "output_type": "stream",
     "text": [
      "10\n",
      "[]\n",
      "Yahoo Finance•7 hours ago\n",
      "Yahoo Finance Video•8 hours ago\n",
      "Yahoo Finance•18 hours ago\n",
      "Reuters•4 hours ago\n",
      "Zacks•6 hours ago\n",
      "Bloomberg•8 hours ago\n",
      "MarketWatch•9 hours ago\n",
      "Bloomberg•11 hours ago\n",
      "Benzinga•12 hours ago\n",
      "Benzinga•13 hours ago\n"
     ]
    },
    {
     "data": {
      "text/html": [
       "<div>\n",
       "<style scoped>\n",
       "    .dataframe tbody tr th:only-of-type {\n",
       "        vertical-align: middle;\n",
       "    }\n",
       "\n",
       "    .dataframe tbody tr th {\n",
       "        vertical-align: top;\n",
       "    }\n",
       "\n",
       "    .dataframe thead th {\n",
       "        text-align: right;\n",
       "    }\n",
       "</style>\n",
       "<table border=\"1\" class=\"dataframe\">\n",
       "  <thead>\n",
       "    <tr style=\"text-align: right;\">\n",
       "      <th></th>\n",
       "      <th>Headline</th>\n",
       "      <th>News</th>\n",
       "      <th>news_url</th>\n",
       "      <th>Date</th>\n",
       "    </tr>\n",
       "  </thead>\n",
       "  <tbody>\n",
       "    <tr>\n",
       "      <td>0</td>\n",
       "      <td>[The firm that once predicted Tesla shares wou...</td>\n",
       "      <td>Tesla stock could hit $6,000 per share in the ...</td>\n",
       "      <td>/news/tesla-shares-could-hit-6000-in-the-next-...</td>\n",
       "      <td>15</td>\n",
       "    </tr>\n",
       "    <tr>\n",
       "      <td>1</td>\n",
       "      <td>[ARK Invest CEO Cathie Wood is confident that ...</td>\n",
       "      <td>Tesla stock could hit $6,000 in five years, sa...</td>\n",
       "      <td>/video/tesla-stock-could-hit-6-210148278.html</td>\n",
       "      <td>15</td>\n",
       "    </tr>\n",
       "    <tr>\n",
       "      <td>2</td>\n",
       "      <td>[Top news and what to watch in the markets on ...</td>\n",
       "      <td>Wall Street can't keep up with Tesla: Morning ...</td>\n",
       "      <td>/news/wall-street-cant-keep-up-with-tesla-morn...</td>\n",
       "      <td>15</td>\n",
       "    </tr>\n",
       "    <tr>\n",
       "      <td>3</td>\n",
       "      <td>[The massive drop comes as tax credit for Tesl...</td>\n",
       "      <td>New Tesla registrations in California nearly h...</td>\n",
       "      <td>/news/tesla-registrations-california-nearly-ha...</td>\n",
       "      <td>15</td>\n",
       "    </tr>\n",
       "    <tr>\n",
       "      <td>4</td>\n",
       "      <td>[Technology ignites commerce and both are driv...</td>\n",
       "      <td>Empires and Explorers: Our Destiny in the Stars</td>\n",
       "      <td>/news/empires-explorers-destiny-stars-22321085...</td>\n",
       "      <td>15</td>\n",
       "    </tr>\n",
       "  </tbody>\n",
       "</table>\n",
       "</div>"
      ],
      "text/plain": [
       "                                            Headline  \\\n",
       "0  [The firm that once predicted Tesla shares wou...   \n",
       "1  [ARK Invest CEO Cathie Wood is confident that ...   \n",
       "2  [Top news and what to watch in the markets on ...   \n",
       "3  [The massive drop comes as tax credit for Tesl...   \n",
       "4  [Technology ignites commerce and both are driv...   \n",
       "\n",
       "                                                News  \\\n",
       "0  Tesla stock could hit $6,000 per share in the ...   \n",
       "1  Tesla stock could hit $6,000 in five years, sa...   \n",
       "2  Wall Street can't keep up with Tesla: Morning ...   \n",
       "3  New Tesla registrations in California nearly h...   \n",
       "4    Empires and Explorers: Our Destiny in the Stars   \n",
       "\n",
       "                                            news_url  Date  \n",
       "0  /news/tesla-shares-could-hit-6000-in-the-next-...    15  \n",
       "1      /video/tesla-stock-could-hit-6-210148278.html    15  \n",
       "2  /news/wall-street-cant-keep-up-with-tesla-morn...    15  \n",
       "3  /news/tesla-registrations-california-nearly-ha...    15  \n",
       "4  /news/empires-explorers-destiny-stars-22321085...    15  "
      ]
     },
     "execution_count": 4,
     "metadata": {},
     "output_type": "execute_result"
    }
   ],
   "source": [
    "\n",
    "\n",
    "# storing all the data from the main class\n",
    "Data = soup.find_all('div',class_='Py(14px) Pos(r)')\n",
    "\n",
    "print(len(Data))\n",
    "now = datetime.now()\n",
    "current_time = now.strftime(\"%H\")\n",
    "d = datetime.today()\n",
    "\n",
    "news_url = []\n",
    "news = []\n",
    "headline = []\n",
    "time = []\n",
    "#time = soup.find(\"div\", attrs={'class':'C(#959595) Fz(11px) D(ib) Mb(6px)'}).text\n",
    "print(time)\n",
    "# search variables Name and reviews within main class using for loop\n",
    "\n",
    "for tr in Data:\n",
    "  if tr.find('a'):\n",
    "    headline.append(tr.find('p'))\n",
    "    news_url.append(tr.find('a')['href'])\n",
    "    news.append(tr.find('a').text)\n",
    "    time_stamp =  (tr.find(\"div\", attrs={'class':'C(#959595) Fz(11px) D(ib) Mb(6px)'}).text)\n",
    "    print(time_stamp)\n",
    "    temp = re.findall(r'\\d+', time_stamp) \n",
    "    res = list(map(int, temp))\n",
    "    News_time = str(res)\n",
    "    if \"hours\" in time_stamp:\n",
    "        time_stamp = d.day\n",
    "    elif \"yesterday\" in time_stamp:\n",
    "        time_stamp = d.day-1\n",
    "    elif \"day\" in time_stamp:\n",
    "        time_stamp = d.day-int(res)\n",
    "    time.append(time_stamp)\n",
    "    \n",
    "    \n",
    "df = pd.DataFrame({\"Headline\": headline, \"News\":news,\"news_url\":news_url,\"Date\": time})\n",
    "df.head()"
   ]
  },
  {
   "cell_type": "markdown",
   "metadata": {},
   "source": [
    "## List only Nasdaq and NYSE listed companies"
   ]
  },
  {
   "cell_type": "code",
   "execution_count": 5,
   "metadata": {},
   "outputs": [],
   "source": [
    "\n",
    "PC_News = df"
   ]
  },
  {
   "cell_type": "code",
   "execution_count": 6,
   "metadata": {},
   "outputs": [
    {
     "name": "stdout",
     "output_type": "stream",
     "text": [
      "                                            Headline  \\\n",
      "0  [The firm that once predicted Tesla shares wou...   \n",
      "1  [ARK Invest CEO Cathie Wood is confident that ...   \n",
      "2  [Top news and what to watch in the markets on ...   \n",
      "3  [The massive drop comes as tax credit for Tesl...   \n",
      "4  [Technology ignites commerce and both are driv...   \n",
      "\n",
      "                                                News  \\\n",
      "0  Tesla stock could hit $6,000 per share in the ...   \n",
      "1  Tesla stock could hit $6,000 in five years, sa...   \n",
      "2  Wall Street can't keep up with Tesla: Morning ...   \n",
      "3  New Tesla registrations in California nearly h...   \n",
      "4    Empires and Explorers: Our Destiny in the Stars   \n",
      "\n",
      "                                            news_url  Date  \n",
      "0  /news/tesla-shares-could-hit-6000-in-the-next-...    15  \n",
      "1      /video/tesla-stock-could-hit-6-210148278.html    15  \n",
      "2  /news/wall-street-cant-keep-up-with-tesla-morn...    15  \n",
      "3  /news/tesla-registrations-california-nearly-ha...    15  \n",
      "4  /news/empires-explorers-destiny-stars-22321085...    15  \n"
     ]
    },
    {
     "ename": "PermissionError",
     "evalue": "[Errno 13] Permission denied: 'OutputNews.csv'",
     "output_type": "error",
     "traceback": [
      "\u001b[1;31m---------------------------------------------------------------------------\u001b[0m",
      "\u001b[1;31mPermissionError\u001b[0m                           Traceback (most recent call last)",
      "\u001b[1;32m<ipython-input-6-e10996f5d1fb>\u001b[0m in \u001b[0;36m<module>\u001b[1;34m\u001b[0m\n\u001b[0;32m      1\u001b[0m \u001b[0mprint\u001b[0m\u001b[1;33m(\u001b[0m\u001b[0mPC_News\u001b[0m\u001b[1;33m.\u001b[0m\u001b[0mhead\u001b[0m\u001b[1;33m(\u001b[0m\u001b[1;33m)\u001b[0m\u001b[1;33m)\u001b[0m\u001b[1;33m\u001b[0m\u001b[1;33m\u001b[0m\u001b[0m\n\u001b[1;32m----> 2\u001b[1;33m \u001b[0mPC_News\u001b[0m\u001b[1;33m.\u001b[0m\u001b[0mto_csv\u001b[0m\u001b[1;33m(\u001b[0m\u001b[1;34m'OutputNews.csv'\u001b[0m\u001b[1;33m)\u001b[0m\u001b[1;33m\u001b[0m\u001b[1;33m\u001b[0m\u001b[0m\n\u001b[0m",
      "\u001b[1;32m~\\Anaconda3\\envs\\PythonData\\lib\\site-packages\\pandas\\core\\generic.py\u001b[0m in \u001b[0;36mto_csv\u001b[1;34m(self, path_or_buf, sep, na_rep, float_format, columns, header, index, index_label, mode, encoding, compression, quoting, quotechar, line_terminator, chunksize, date_format, doublequote, escapechar, decimal)\u001b[0m\n\u001b[0;32m   3226\u001b[0m             \u001b[0mdecimal\u001b[0m\u001b[1;33m=\u001b[0m\u001b[0mdecimal\u001b[0m\u001b[1;33m,\u001b[0m\u001b[1;33m\u001b[0m\u001b[1;33m\u001b[0m\u001b[0m\n\u001b[0;32m   3227\u001b[0m         )\n\u001b[1;32m-> 3228\u001b[1;33m         \u001b[0mformatter\u001b[0m\u001b[1;33m.\u001b[0m\u001b[0msave\u001b[0m\u001b[1;33m(\u001b[0m\u001b[1;33m)\u001b[0m\u001b[1;33m\u001b[0m\u001b[1;33m\u001b[0m\u001b[0m\n\u001b[0m\u001b[0;32m   3229\u001b[0m \u001b[1;33m\u001b[0m\u001b[0m\n\u001b[0;32m   3230\u001b[0m         \u001b[1;32mif\u001b[0m \u001b[0mpath_or_buf\u001b[0m \u001b[1;32mis\u001b[0m \u001b[1;32mNone\u001b[0m\u001b[1;33m:\u001b[0m\u001b[1;33m\u001b[0m\u001b[1;33m\u001b[0m\u001b[0m\n",
      "\u001b[1;32m~\\Anaconda3\\envs\\PythonData\\lib\\site-packages\\pandas\\io\\formats\\csvs.py\u001b[0m in \u001b[0;36msave\u001b[1;34m(self)\u001b[0m\n\u001b[0;32m    181\u001b[0m                 \u001b[0mself\u001b[0m\u001b[1;33m.\u001b[0m\u001b[0mmode\u001b[0m\u001b[1;33m,\u001b[0m\u001b[1;33m\u001b[0m\u001b[1;33m\u001b[0m\u001b[0m\n\u001b[0;32m    182\u001b[0m                 \u001b[0mencoding\u001b[0m\u001b[1;33m=\u001b[0m\u001b[0mself\u001b[0m\u001b[1;33m.\u001b[0m\u001b[0mencoding\u001b[0m\u001b[1;33m,\u001b[0m\u001b[1;33m\u001b[0m\u001b[1;33m\u001b[0m\u001b[0m\n\u001b[1;32m--> 183\u001b[1;33m                 \u001b[0mcompression\u001b[0m\u001b[1;33m=\u001b[0m\u001b[0mself\u001b[0m\u001b[1;33m.\u001b[0m\u001b[0mcompression\u001b[0m\u001b[1;33m,\u001b[0m\u001b[1;33m\u001b[0m\u001b[1;33m\u001b[0m\u001b[0m\n\u001b[0m\u001b[0;32m    184\u001b[0m             )\n\u001b[0;32m    185\u001b[0m             \u001b[0mclose\u001b[0m \u001b[1;33m=\u001b[0m \u001b[1;32mTrue\u001b[0m\u001b[1;33m\u001b[0m\u001b[1;33m\u001b[0m\u001b[0m\n",
      "\u001b[1;32m~\\Anaconda3\\envs\\PythonData\\lib\\site-packages\\pandas\\io\\common.py\u001b[0m in \u001b[0;36m_get_handle\u001b[1;34m(path_or_buf, mode, encoding, compression, memory_map, is_text)\u001b[0m\n\u001b[0;32m    397\u001b[0m         \u001b[1;32mif\u001b[0m \u001b[0mencoding\u001b[0m\u001b[1;33m:\u001b[0m\u001b[1;33m\u001b[0m\u001b[1;33m\u001b[0m\u001b[0m\n\u001b[0;32m    398\u001b[0m             \u001b[1;31m# Encoding\u001b[0m\u001b[1;33m\u001b[0m\u001b[1;33m\u001b[0m\u001b[1;33m\u001b[0m\u001b[0m\n\u001b[1;32m--> 399\u001b[1;33m             \u001b[0mf\u001b[0m \u001b[1;33m=\u001b[0m \u001b[0mopen\u001b[0m\u001b[1;33m(\u001b[0m\u001b[0mpath_or_buf\u001b[0m\u001b[1;33m,\u001b[0m \u001b[0mmode\u001b[0m\u001b[1;33m,\u001b[0m \u001b[0mencoding\u001b[0m\u001b[1;33m=\u001b[0m\u001b[0mencoding\u001b[0m\u001b[1;33m,\u001b[0m \u001b[0mnewline\u001b[0m\u001b[1;33m=\u001b[0m\u001b[1;34m\"\"\u001b[0m\u001b[1;33m)\u001b[0m\u001b[1;33m\u001b[0m\u001b[1;33m\u001b[0m\u001b[0m\n\u001b[0m\u001b[0;32m    400\u001b[0m         \u001b[1;32melif\u001b[0m \u001b[0mis_text\u001b[0m\u001b[1;33m:\u001b[0m\u001b[1;33m\u001b[0m\u001b[1;33m\u001b[0m\u001b[0m\n\u001b[0;32m    401\u001b[0m             \u001b[1;31m# No explicit encoding\u001b[0m\u001b[1;33m\u001b[0m\u001b[1;33m\u001b[0m\u001b[1;33m\u001b[0m\u001b[0m\n",
      "\u001b[1;31mPermissionError\u001b[0m: [Errno 13] Permission denied: 'OutputNews.csv'"
     ]
    }
   ],
   "source": [
    "print(PC_News.head())\n",
    "PC_News.to_csv('OutputNews.csv')"
   ]
  },
  {
   "cell_type": "markdown",
   "metadata": {},
   "source": []
  },
  {
   "cell_type": "code",
   "execution_count": null,
   "metadata": {},
   "outputs": [],
   "source": [
    "import nltk\n",
    "from nltk.sentiment.vader import SentimentIntensityAnalyzer\n",
    "sia = SentimentIntensityAnalyzer()\n",
    "for i, j in PC_News.iterrows(): \n",
    "    Passage = PC_News.News[i]\n",
    "    print(Passage)\n",
    "    print(\" Sentiment Score:\", sia.polarity_scores(Passage))"
   ]
  },
  {
   "cell_type": "markdown",
   "metadata": {},
   "source": [
    "## Merged all three dataframe into one DF"
   ]
  },
  {
   "cell_type": "code",
   "execution_count": null,
   "metadata": {},
   "outputs": [],
   "source": []
  }
 ],
 "metadata": {
  "kernelspec": {
   "display_name": "Python 3",
   "language": "python",
   "name": "python3"
  },
  "language_info": {
   "codemirror_mode": {
    "name": "ipython",
    "version": 3
   },
   "file_extension": ".py",
   "mimetype": "text/x-python",
   "name": "python",
   "nbconvert_exporter": "python",
   "pygments_lexer": "ipython3",
   "version": "3.7.4"
  }
 },
 "nbformat": 4,
 "nbformat_minor": 2
}
